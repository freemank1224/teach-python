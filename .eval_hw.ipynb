{
 "cells": [
  {
   "cell_type": "markdown",
   "metadata": {},
   "source": [
    "# Auto Grading and Review Generator\n",
    "This file evaluate students' homeworks using AI assistant and generate reviews automatically."
   ]
  },
  {
   "cell_type": "markdown",
   "metadata": {},
   "source": [
    "## 1. Introduce AI tool first"
   ]
  },
  {
   "cell_type": "code",
   "execution_count": 5,
   "metadata": {},
   "outputs": [
    {
     "name": "stdout",
     "output_type": "stream",
     "text": [
      "The jupyter_ai_magics extension is already loaded. To reload it, use:\n",
      "  %reload_ext jupyter_ai_magics\n"
     ]
    }
   ],
   "source": [
    "# If use ollama, no API_KEY needed\n",
    "%load_ext jupyter_ai_magics\n",
    "%config AiMagics.default_language_model = 'ollama:phi4'"
   ]
  },
  {
   "cell_type": "code",
   "execution_count": 1,
   "metadata": {},
   "outputs": [
    {
     "data": {
      "text/plain": [
       "True"
      ]
     },
     "execution_count": 1,
     "metadata": {},
     "output_type": "execute_result"
    }
   ],
   "source": [
    "# If use Gemini, have to load .env file to get API_KEY\n",
    "%load_ext jupyter_ai_magics\n",
    "%config AiMagics.default_language_model = 'gemini:gemini-2.0-flash-thinking-exp'\n",
    "\n",
    "from dotenv import load_dotenv\n",
    "\n",
    "load_dotenv()"
   ]
  },
  {
   "cell_type": "markdown",
   "metadata": {},
   "source": [
    "## 2. Use AI to evaluate the given code\n",
    "Three main steps:\n",
    "1. Get all students' homeworks by iterate the homework folder\n",
    "2. Generate prompts for AI to give review and score to each homework\n",
    "3. Gathering all the output reviews and write them to specific notebooks in the review folder"
   ]
  },
  {
   "cell_type": "markdown",
   "metadata": {},
   "source": [
    "### 2.0 Define the review parametrers"
   ]
  },
  {
   "cell_type": "code",
   "execution_count": 9,
   "metadata": {},
   "outputs": [],
   "source": [
    "keyword = '----Answer----'  # keyword to split the question and answer, should be predefined\n",
    "root = './homework'         # root folder to store students' homework, file name should be predefined\n",
    "active = 'lesson2'          # the active lesson, should change according to the lesson you are teaching\n",
    "review_folder = './review'  # folder to store the review result, should be predefined"
   ]
  },
  {
   "cell_type": "markdown",
   "metadata": {},
   "source": [
    "### 2.1 Get the homeworks under `root` directory\n",
    "Define the class to get all homeworks: Iterate the `homework` folder, get all the code section from all students' homeworks according to the active lesson."
   ]
  },
  {
   "cell_type": "code",
   "execution_count": 10,
   "metadata": {},
   "outputs": [],
   "source": [
    "import nbformat, os\n",
    "from nbclient import NotebookClient\n",
    "\n",
    "class HomeworkManager:\n",
    "    def __init__(self, key_word, root_dir, active_lesson):\n",
    "        self.key_word = key_word\n",
    "        self.root_dir = root_dir\n",
    "        self.active_lesson = active_lesson\n",
    "        \n",
    "    def get_all_homework(self):\n",
    "        all_homeworks = []\n",
    "        for dir_path, _, file_names in os.walk(self.root_dir):\n",
    "            for file_name in file_names:\n",
    "                # 忽略以点开头的隐藏文件\n",
    "                if not file_name.startswith('.'): \n",
    "                    if file_name.strip().split('.')[0].split('_')[-1] == self.active_lesson:\n",
    "                        file_path = os.path.join(dir_path, file_name)\n",
    "                        # print(file_path)\n",
    "                        all_homeworks.append(file_path)\n",
    "                        if all_homeworks == []:\n",
    "                            print(f\"There's no homework for {self.active_lesson}!\")\n",
    "                    # else:\n",
    "                    #     print(f\"There's no homework for {self.active_lesson}!\")\n",
    "        return all_homeworks\n",
    "    \n",
    "    # def get_cell_content(self, file_path):\n",
    "    #     for dir_path, _, file_names in os.walk(self.root_dir):\n",
    "    #         for file_name in file_names:\n",
    "    #             file_path = os.path.join(dir_path, file_name)\n",
    "    #             all_homeworks.append(file_path)\n",
    "    #     return all_homeworks\n",
    "    \n",
    "    def get_cell_content(self, file_path):\n",
    "        with open(file_path) as f:\n",
    "            nb = nbformat.read(f, as_version=4)\n",
    "        review_cell = [cell for cell in nb.cells if self.key_word.lower() in cell.source.lower()]\n",
    "        if len(review_cell) == 0:\n",
    "            raise IndexError(\"There's no answer in the notebook.\")\n",
    "        else:\n",
    "            return review_cell"
   ]
  },
  {
   "cell_type": "markdown",
   "metadata": {},
   "source": [
    "### 2.2 Generate prompts for each homework\n",
    "Define a class to create cells in a notebook."
   ]
  },
  {
   "cell_type": "code",
   "execution_count": 11,
   "metadata": {},
   "outputs": [],
   "source": [
    "import time\n",
    "from IPython.core.getipython import get_ipython\n",
    "\n",
    "class NotebookManager:\n",
    "    def __init__(self):\n",
    "        self.shell = get_ipython()\n",
    "\n",
    "    def create_code_cell(self, content, cell_type='code'):\n",
    "        \"\"\"Create new code cell\"\"\"\n",
    "        payload = dict(\n",
    "            source = 'set_next_input',\n",
    "            text = content,\n",
    "            replace = False\n",
    "        )\n",
    "        self.shell.payload_manager.write_payload(payload)\n",
    "\n",
    "    def create_markdown_cell(self, content, cell_type='markdown'):\n",
    "        \"\"\"Create new markdown cell\"\"\"\n",
    "        payload = dict(\n",
    "            source = 'set_next_input',\n",
    "            text = content,\n",
    "            replace = False\n",
    "        )\n",
    "        self.shell.payload_manager.write_payload(payload)\n",
    "\n",
    "    def run_cell(self, code):\n",
    "        result = self.shell.run_cell(code)\n",
    "        return result\n",
    "    \n",
    "    def create_and_run(self, content):\n",
    "        # self.create_code_cell(content)\n",
    "        # time.sleep(0.5)\n",
    "        # return self.run_cell(content)\n",
    "        # 添加输出追踪\n",
    "        # self.last_output = None\n",
    "        return self.run_cell(content)\n",
    "        # result = self.run_cell(content)\n",
    "        # # 保存输出结果\n",
    "        # if hasattr(result, 'result'):\n",
    "        #     self.last_output = result.result\n",
    "        # return result"
   ]
  },
  {
   "cell_type": "markdown",
   "metadata": {},
   "source": [
    "### 2.3 Let's generate reviews automatically!!\n",
    "Get some "
   ]
  },
  {
   "cell_type": "code",
   "execution_count": 16,
   "metadata": {},
   "outputs": [
    {
     "data": {
      "text/markdown": [
       "```markdown\n",
       "# Review: yula:lesson2\n",
       "\n",
       "## Code Review\n",
       "\n",
       "### 1. 自动驾驶系统\n",
       "- **评分：4/5**\n",
       "\n",
       "#### 优点：\n",
       "- 使用 `if-elif-else` 结构根据燃料水平进行决策，逻辑清晰。\n",
       "- 提供了明确的输出信息以反映不同燃料状态。\n",
       "\n",
       "#### 建议：\n",
       "- 可以考虑将燃料阈值定义为变量，提高代码可读性和灵活性。例如：\n",
       "  ```python\n",
       "  LOW_FUEL_THRESHOLD = 20\n",
       "  SAFE_FUEL_THRESHOLD = 50\n",
       "  ```\n",
       "\n",
       "### 2. 循环检测系统\n",
       "- **评分：4/5**\n",
       "\n",
       "#### 优点：\n",
       "- 使用 `while` 循环模拟飞行器的升高过程，逻辑正确。\n",
       "- 利用逻辑运算符结合多个条件来决定是否可以起飞。\n",
       "\n",
       "#### 建议：\n",
       "- 可以在循环中加入一个最大次数或时间限制，防止无限增长的情况。\n",
       "- 考虑添加速度变化因素（如不同的上升速率），使模拟更接近现实。\n",
       "\n",
       "### 3. 交互式导航系统\n",
       "- **评分：4/5**\n",
       "\n",
       "#### 优点：\n",
       "- 使用 `input()` 函数接收用户指令，并根据输入提供相应反馈。\n",
       "- 列表与循环结合使用，展示了可选目的地列表并允许用户选择。\n",
       "\n",
       "#### 建议：\n",
       "- 在输入检查时可以增加更多错误处理（例如重复询问直到收到有效输入），以提高用户体验。\n",
       "- 可以为每个指令添加具体的行动细节，使输出信息更丰富。\n",
       "\n",
       "---\n",
       "\n",
       "EOF\n",
       "```\n",
       "\n"
      ],
      "text/plain": [
       "<IPython.core.display.Markdown object>"
      ]
     },
     "execution_count": 16,
     "metadata": {
      "text/markdown": {
       "jupyter_ai": {
        "model_id": "phi4",
        "provider_id": "ollama"
       }
      }
     },
     "output_type": "execute_result"
    },
    {
     "name": "stdout",
     "output_type": "stream",
     "text": [
      "GOT YOU!\n"
     ]
    },
    {
     "data": {
      "text/markdown": [
       "```markdown\n",
       "# Review: ethan:lesson2\n",
       "\n",
       "## Code Review\n",
       "\n",
       "### 1. 自动驾驶系统\n",
       "- **评分：0/5**\n",
       "\n",
       "#### 建议：\n",
       "- 缺少具体代码实现。需要添加燃料水平检查和相应的提示信息。\n",
       "- 使用条件判断结构（如 `if-elif-else`）来模拟自动驾驶系统的基本决策逻辑。\n",
       "\n",
       "### 2. 循环检测系统\n",
       "- **评分：0/5**\n",
       "\n",
       "#### 建议：\n",
       "- 缺少具体代码实现。建议添加 `while` 或 `for` 循环来模拟飞行器的升高过程。\n",
       "- 可以结合条件判断和循环控制，确保程序能够逐步达到目标高度。\n",
       "\n",
       "### 3. 交互式导航系统\n",
       "- **评分：0/5**\n",
       "\n",
       "#### 建议：\n",
       "- 缺少用户输入处理。需要使用 `input()` 函数接收用户的指令或选择。\n",
       "- 利用列表和循环结合使用，展示可选目标，并根据用户输入提供反馈。\n",
       "\n",
       "---\n",
       "\n",
       "EOF\n",
       "```\n",
       "\n"
      ],
      "text/plain": [
       "<IPython.core.display.Markdown object>"
      ]
     },
     "execution_count": 16,
     "metadata": {
      "text/markdown": {
       "jupyter_ai": {
        "model_id": "phi4",
        "provider_id": "ollama"
       }
      }
     },
     "output_type": "execute_result"
    },
    {
     "name": "stdout",
     "output_type": "stream",
     "text": [
      "GOT YOU!\n"
     ]
    }
   ],
   "source": [
    "hws = HomeworkManager(keyword, root, active)\n",
    "\n",
    "homeworks = hws.get_all_homework()\n",
    "reviews_array = []\n",
    "\n",
    "nb = NotebookManager()\n",
    "\n",
    "for homework in homeworks:\n",
    "    file_name = os.path.basename(homework)\n",
    "    # Extract the main body of file name, discard the extension name\n",
    "    file_name = file_name.split('.')[0]\n",
    "    lesson_idx = file_name.split('_')[-1]\n",
    "    stu_name = file_name.split('_')[0]\n",
    "    code_seg = hws.get_cell_content(homework)[0].source\n",
    "    # print(hw_dict['name'])\n",
    "    prompt = \"%%ai\\n\"\n",
    "    prompt += \"Main task: {stu_name} is a beginner in Python coding. Please review his(her) code of {lesson_idx} shown in {code_seg}, rated them in 5-score system and give some advice from the perspective of {stu_name}'s teacher, omit advanced coding skills.\"\n",
    "    prompt += \"Requirements: 1.Use Chinese to format your answer. 2.Your review should start with 'Review:{stu_name}:{lesson_idx}'. 3.When you finish reviewing, add a seperator line and write a EOF marker.\"\n",
    "\n",
    "    result = nb.create_and_run(prompt)\n",
    "    if hasattr(result.result, '_repr_markdown_'):\n",
    "        reviews_array.append(result.result._repr_markdown_())\n",
    "        print(\"GOT YOU!\")\n",
    "    # nb.create_code_cell(prompt)"
   ]
  },
  {
   "cell_type": "code",
   "execution_count": 18,
   "metadata": {},
   "outputs": [
    {
     "name": "stdout",
     "output_type": "stream",
     "text": [
      "YULA's review has been created：./reviews/review_YULA_lesson2.ipynb\n",
      "ETHAN's review has been created：./reviews/review_ETHAN_lesson2.ipynb\n"
     ]
    }
   ],
   "source": [
    "# Remove title and tail lines\n",
    "def remove_lines(text, head=1, tail=1):\n",
    "    lines = text.splitlines()\n",
    "    if not head < 0:\n",
    "        if not tail < 0:\n",
    "            return '\\n'.join(lines[head:-(tail+1)])\n",
    "\n",
    "\n",
    "# `reviews_array` is a tuple variable\n",
    "for review in reviews_array:\n",
    "    if review[0].startswith(\"```\"):\n",
    "        # Get the real first line: Reivew:Name\n",
    "        first_line = review[0].split('\\n')[1]\n",
    "        # Extract lesson idx and student name in the text. <<< Review:name:lesson >>>\n",
    "        # Get the active lesson index\n",
    "        lesson = first_line.split(':')[-1]\n",
    "        # Get the student name\n",
    "        name = first_line.split(':')[-2].upper().strip()\n",
    "        # Remove the first and last line\n",
    "        text = remove_lines(review[0], 1, 1)\n",
    "\n",
    "        # Create a new notebook\n",
    "        new_nb = nbformat.v4.new_notebook()\n",
    "        # Add markdown cell\n",
    "        new_nb.cells.append(nbformat.v4.new_markdown_cell(text))\n",
    "\n",
    "        # Save Notebook\n",
    "        output_path = f'./reviews/review_{name}_{lesson}.ipynb'\n",
    "        os.makedirs('./reviews', exist_ok=True)\n",
    "        \n",
    "        with open(output_path, 'w', encoding='utf-8') as f:\n",
    "            nbformat.write(new_nb, f)\n",
    "        print(f\"{name}'s review has been created：{output_path}\")"
   ]
  },
  {
   "cell_type": "code",
   "execution_count": 20,
   "metadata": {},
   "outputs": [],
   "source": [
    "def get_all_outputs():\n",
    "    outputs = []\n",
    "    history = get_ipython().history_manager.get_tail(100)  \n",
    "    for session, line, output in history:\n",
    "        if isinstance(output, str) and '----Review:' in output:\n",
    "            outputs.append(output)\n",
    "    return outputs"
   ]
  }
 ],
 "metadata": {
  "kernelspec": {
   "display_name": "learnclass",
   "language": "python",
   "name": "python3"
  },
  "language_info": {
   "codemirror_mode": {
    "name": "ipython",
    "version": 3
   },
   "file_extension": ".py",
   "mimetype": "text/x-python",
   "name": "python",
   "nbconvert_exporter": "python",
   "pygments_lexer": "ipython3",
   "version": "3.10.15"
  }
 },
 "nbformat": 4,
 "nbformat_minor": 2
}

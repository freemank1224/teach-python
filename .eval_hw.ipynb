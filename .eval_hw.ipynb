{
 "cells": [
  {
   "cell_type": "markdown",
   "metadata": {},
   "source": [
    "# This file will evaluate students' homeworks using AI assistant"
   ]
  },
  {
   "cell_type": "markdown",
   "metadata": {},
   "source": [
    "## 1. Introduce AI tool first"
   ]
  },
  {
   "cell_type": "code",
   "execution_count": 1,
   "metadata": {},
   "outputs": [],
   "source": [
    "# If use ollama, no API_KEY needed\n",
    "%load_ext jupyter_ai_magics\n",
    "%config AiMagics.default_language_model = 'ollama:phi4'"
   ]
  },
  {
   "cell_type": "code",
   "execution_count": null,
   "metadata": {},
   "outputs": [],
   "source": [
    "# If use Gemini, have to load .env file to get API_KEY\n",
    "%load_ext jupyter_ai_magics\n",
    "%config AiMagics.default_language_model = 'gemini:gemini-2.0-flash-thinking-exp'\n",
    "\n",
    "from dotenv import load_dotenv\n",
    "\n",
    "load_dotenv()"
   ]
  },
  {
   "cell_type": "markdown",
   "metadata": {},
   "source": [
    "## 2. Use AI to evaluate the given code "
   ]
  },
  {
   "cell_type": "code",
   "execution_count": 151,
   "metadata": {},
   "outputs": [],
   "source": [
    "import nbformat, os\n",
    "from nbclient import NotebookClient\n",
    "\n",
    "# 超参数设置\n",
    "# keyword: 在作业中用于识别待批阅单元格的关键词，要与作业文件中相匹配\n",
    "# root_dir: 作业文件夹位置\n",
    "keyword = '----Answer----'\n",
    "root_dir = './homework'\n",
    "\n",
    "class HomeworkManager:\n",
    "    def __init__(self):\n",
    "        self.key_word = ''\n",
    "        self.root_dir = ''\n",
    "        print(\"Please provide key_word and root_dir first!\")\n",
    "        \n",
    "    def get_all_homework(self):\n",
    "        all_homeworks = []\n",
    "        for dir_path, _, file_names in os.walk(self.root_dir):\n",
    "            for file_name in file_names:\n",
    "                file_path = os.path.join(dir_path, file_name)\n",
    "                all_homeworks.append(file_path)\n",
    "        return all_homeworks\n",
    "    \n",
    "    def get_cell_content(self, file_path):\n",
    "        with open(file_path) as f:\n",
    "            nb = nbformat.read(f, as_version=4)\n",
    "        review_cell = [cell for cell in nb.cells if self.key_word.lower() in cell.source.lower()]\n",
    "        if len(review_cell) == 0:\n",
    "            raise IndexError(\"There's no answer in the notebook.\")\n",
    "        else:\n",
    "            return review_cell"
   ]
  },
  {
   "cell_type": "code",
   "execution_count": null,
   "metadata": {},
   "outputs": [],
   "source": [
    "import nbformat, os\n",
    "from nbclient import NotebookClient\n",
    "\n",
    "keyword = '----Answer----'\n",
    "root_dir = './homework'\n",
    "\n",
    "def get_cell_content(notebook_path, key_word):\n",
    "    with open(notebook_path,) as f:\n",
    "        nb = nbformat.read(f, as_version=4)\n",
    "    review_cell = [cell for cell in nb.cells if key_word.lower() in cell.source.lower()]\n",
    "    if len(review_cell) == 0:\n",
    "        raise IndexError(\"There's no anwser in the notebook.\")\n",
    "    else:\n",
    "        return review_cell\n",
    "\n",
    "def get_all_homework(root_dir):\n",
    "    all_homework = []\n",
    "    for dir_path, _, filenames in os.walk(root_dir):\n",
    "        for filename in filenames:\n",
    "            file_path = os.path.join(dir_path, filename)\n",
    "            all_homework.append(file_path)\n",
    "            print(file_path)\n",
    "\n",
    "    return all_homework\n",
    "\n",
    "all_homeworks = get_all_homework(root_dir)\n"
   ]
  },
  {
   "cell_type": "code",
   "execution_count": 154,
   "metadata": {},
   "outputs": [],
   "source": [
    "import time\n",
    "from IPython.core.getipython import get_ipython\n",
    "\n",
    "class NotebookManager:\n",
    "    def __init__(self):\n",
    "        self.shell = get_ipython()\n",
    "\n",
    "    def create_code_cell(self, content, cell_type='code'):\n",
    "        \"\"\"Create new code cell\"\"\"\n",
    "        payload = dict(\n",
    "            source = 'set_next_input',\n",
    "            text = content,\n",
    "            replace = False\n",
    "        )\n",
    "        self.shell.payload_manager.write_payload(payload)\n",
    "\n",
    "    def create_markdown_cell(self, content, cell_type='markdown'):\n",
    "        \"\"\"Create new markdown cell\"\"\"\n",
    "        payload = dict(\n",
    "            source = 'set_next_input',\n",
    "            text = content,\n",
    "            replace = False\n",
    "        )\n",
    "        self.shell.payload_manager.write_payload(payload)\n",
    "\n",
    "    def run_cell(self, code):\n",
    "        result = self.shell.run_cell(code)\n",
    "        return result\n",
    "    \n",
    "    def create_and_run(self, content):\n",
    "        self.create_code_cell(content)\n",
    "        time.sleep(0.5)\n",
    "        return self.run_cell(content)"
   ]
  },
  {
   "cell_type": "code",
   "execution_count": null,
   "metadata": {},
   "outputs": [],
   "source": [
    "hws = HomeworkManager()\n",
    "hws.key_word = keyword\n",
    "hws.root_dir = root_dir\n",
    "\n",
    "homeworks = hws.get_all_homework()\n",
    "\n",
    "nb = NotebookManager()\n",
    "\n",
    "for homework in homeworks:\n",
    "    file_name = os.path.basename(homework)\n",
    "    stu_name = file_name.split('_')[0]\n",
    "    code_seg = hws.get_cell_content(homework)[0].source\n",
    "    # print(hw_dict['name'])\n",
    "    prompt = \"%%ai\\n\"\n",
    "    prompt += \"{stu_name} is a beginner in Python coding. Please review his(her) code shown in {code_seg}, rated them in 5-score system and give some advice from the perspective of {stu_name}'s teacher, omit advanced coding skills.\"\n",
    "    prompt += \"Use Chinese to format your answer.\"\n",
    "\n",
    "    nb.create_and_run(prompt)\n"
   ]
  }
 ],
 "metadata": {
  "kernelspec": {
   "display_name": "learnclass",
   "language": "python",
   "name": "python3"
  },
  "language_info": {
   "codemirror_mode": {
    "name": "ipython",
    "version": 3
   },
   "file_extension": ".py",
   "mimetype": "text/x-python",
   "name": "python",
   "nbconvert_exporter": "python",
   "pygments_lexer": "ipython3",
   "version": "3.10.15"
  }
 },
 "nbformat": 4,
 "nbformat_minor": 2
}

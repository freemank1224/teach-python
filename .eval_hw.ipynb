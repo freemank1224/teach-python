{
 "cells": [
  {
   "cell_type": "markdown",
   "metadata": {},
   "source": [
    "# Auto Grading and Review Generator\n",
    "This file evaluate students' homeworks using AI assistant and generate reviews automatically."
   ]
  },
  {
   "cell_type": "markdown",
   "metadata": {},
   "source": [
    "## 1. Introduce AI tool first"
   ]
  },
  {
   "cell_type": "code",
   "execution_count": null,
   "metadata": {},
   "outputs": [],
   "source": [
    "# If use ollama, no API_KEY needed\n",
    "%load_ext jupyter_ai_magics\n",
    "%config AiMagics.default_language_model = 'ollama:phi4'"
   ]
  },
  {
   "cell_type": "code",
   "execution_count": null,
   "metadata": {},
   "outputs": [],
   "source": [
    "# If use Gemini, have to load .env file to get API_KEY\n",
    "%load_ext jupyter_ai_magics\n",
    "%config AiMagics.default_language_model = 'gemini:gemini-2.0-flash-thinking-exp'\n",
    "\n",
    "from dotenv import load_dotenv\n",
    "\n",
    "load_dotenv()"
   ]
  },
  {
   "cell_type": "markdown",
   "metadata": {},
   "source": [
    "## 2. Use AI to evaluate the given code\n",
    "Three main steps:\n",
    "1. Get all students' homeworks by iterate the homework folder\n",
    "2. Generate prompts for AI to give review and score to each homework\n",
    "3. Gathering all the output reviews and write them to specific notebooks in the review folder"
   ]
  },
  {
   "cell_type": "markdown",
   "metadata": {},
   "source": [
    "### 2.0 Define the review parametrers"
   ]
  },
  {
   "cell_type": "code",
   "execution_count": 9,
   "metadata": {},
   "outputs": [],
   "source": [
    "keyword = '----Answer----'  # keyword to split the question and answer, should be predefined\n",
    "root = './homework'         # root folder to store students' homework, file name should be predefined\n",
    "active = 'lesson2'          # the active lesson, should change according to the lesson you are teaching\n",
    "review_folder = './review'  # folder to store the review result, should be predefined"
   ]
  },
  {
   "cell_type": "markdown",
   "metadata": {},
   "source": [
    "### 2.1 Get the homeworks under `root` directory\n",
    "Define the class to get all homeworks: Iterate the `homework` folder, get all the code section from all students' homeworks according to the active lesson."
   ]
  },
  {
   "cell_type": "code",
   "execution_count": 10,
   "metadata": {},
   "outputs": [],
   "source": [
    "import nbformat, os\n",
    "from nbclient import NotebookClient\n",
    "\n",
    "class HomeworkManager:\n",
    "    def __init__(self, key_word, root_dir, active_lesson):\n",
    "        self.key_word = key_word\n",
    "        self.root_dir = root_dir\n",
    "        self.active_lesson = active_lesson\n",
    "        \n",
    "    def get_all_homework(self):\n",
    "        all_homeworks = []\n",
    "        for dir_path, _, file_names in os.walk(self.root_dir):\n",
    "            for file_name in file_names:\n",
    "                # 忽略以点开头的隐藏文件\n",
    "                if not file_name.startswith('.'): \n",
    "                    if file_name.strip().split('.')[0].split('_')[-1] == self.active_lesson:\n",
    "                        file_path = os.path.join(dir_path, file_name)\n",
    "                        # print(file_path)\n",
    "                        all_homeworks.append(file_path)\n",
    "                        if all_homeworks == []:\n",
    "                            print(f\"There's no homework for {self.active_lesson}!\")\n",
    "                    # else:\n",
    "                    #     print(f\"There's no homework for {self.active_lesson}!\")\n",
    "        return all_homeworks\n",
    "    \n",
    "    # def get_cell_content(self, file_path):\n",
    "    #     for dir_path, _, file_names in os.walk(self.root_dir):\n",
    "    #         for file_name in file_names:\n",
    "    #             file_path = os.path.join(dir_path, file_name)\n",
    "    #             all_homeworks.append(file_path)\n",
    "    #     return all_homeworks\n",
    "    \n",
    "    def get_cell_content(self, file_path):\n",
    "        with open(file_path) as f:\n",
    "            nb = nbformat.read(f, as_version=4)\n",
    "        review_cell = [cell for cell in nb.cells if self.key_word.lower() in cell.source.lower()]\n",
    "        if len(review_cell) == 0:\n",
    "            raise IndexError(\"There's no answer in the notebook.\")\n",
    "        else:\n",
    "            return review_cell"
   ]
  },
  {
   "cell_type": "markdown",
   "metadata": {},
   "source": [
    "### 2.2 Generate prompts for each homework\n",
    "Define a class to create cells in a notebook."
   ]
  },
  {
   "cell_type": "code",
   "execution_count": 11,
   "metadata": {},
   "outputs": [],
   "source": [
    "import time\n",
    "from IPython.core.getipython import get_ipython\n",
    "\n",
    "class NotebookManager:\n",
    "    def __init__(self):\n",
    "        self.shell = get_ipython()\n",
    "\n",
    "    def create_code_cell(self, content, cell_type='code'):\n",
    "        \"\"\"Create new code cell\"\"\"\n",
    "        payload = dict(\n",
    "            source = 'set_next_input',\n",
    "            text = content,\n",
    "            replace = False\n",
    "        )\n",
    "        self.shell.payload_manager.write_payload(payload)\n",
    "\n",
    "    def create_markdown_cell(self, content, cell_type='markdown'):\n",
    "        \"\"\"Create new markdown cell\"\"\"\n",
    "        payload = dict(\n",
    "            source = 'set_next_input',\n",
    "            text = content,\n",
    "            replace = False\n",
    "        )\n",
    "        self.shell.payload_manager.write_payload(payload)\n",
    "\n",
    "    def run_cell(self, code):\n",
    "        result = self.shell.run_cell(code)\n",
    "        return result\n",
    "    \n",
    "    def create_and_run(self, content):\n",
    "        # self.create_code_cell(content)\n",
    "        # time.sleep(0.5)\n",
    "        # return self.run_cell(content)\n",
    "        # 添加输出追踪\n",
    "        # self.last_output = None\n",
    "        return self.run_cell(content)\n",
    "        # result = self.run_cell(content)\n",
    "        # # 保存输出结果\n",
    "        # if hasattr(result, 'result'):\n",
    "        #     self.last_output = result.result\n",
    "        # return result"
   ]
  },
  {
   "cell_type": "markdown",
   "metadata": {},
   "source": [
    "### 2.3 Let's generate reviews automatically!!\n",
    "1. Iterate all homeworks\n",
    "2. Extract activate lesson, name and code section to review\n",
    "3. Generate prompt for each code section\n",
    "4. Gether and store every review message from AI reviewer\n",
    "5. Write to new cell in new notebook, and store them in given folder"
   ]
  },
  {
   "cell_type": "code",
   "execution_count": null,
   "metadata": {},
   "outputs": [],
   "source": [
    "hws = HomeworkManager(keyword, root, active)\n",
    "\n",
    "homeworks = hws.get_all_homework()\n",
    "reviews_array = []\n",
    "\n",
    "nb = NotebookManager()\n",
    "\n",
    "for homework in homeworks:\n",
    "    file_name = os.path.basename(homework)\n",
    "    # Extract the main body of file name, discard the extension name\n",
    "    file_name = file_name.split('.')[0]\n",
    "    lesson_idx = file_name.split('_')[-1]\n",
    "    stu_name = file_name.split('_')[0]\n",
    "    code_seg = hws.get_cell_content(homework)[0].source\n",
    "    # print(hw_dict['name'])\n",
    "    prompt = \"%%ai\\n\"\n",
    "    prompt += \"Main task: {stu_name} is a beginner in Python coding. Please review his(her) code of {lesson_idx} shown in {code_seg}, rated them in 5-score system and give some advice from the perspective of {stu_name}'s teacher, omit advanced coding skills.\"\n",
    "    prompt += \"Requirements: 1.Use Chinese to format your answer. 2.Your review should start with 'Review:{stu_name}:{lesson_idx}'. 3.When you finish reviewing, add a seperator line and write a EOF marker.\"\n",
    "\n",
    "    result = nb.create_and_run(prompt)\n",
    "    if hasattr(result.result, '_repr_markdown_'):\n",
    "        reviews_array.append(result.result._repr_markdown_())\n",
    "        print(\"GOT YOU!\")\n",
    "    # nb.create_code_cell(prompt)"
   ]
  },
  {
   "cell_type": "code",
   "execution_count": null,
   "metadata": {},
   "outputs": [],
   "source": [
    "# Remove title and tail lines\n",
    "def remove_lines(text, head=1, tail=1):\n",
    "    lines = text.splitlines()\n",
    "    if not head < 0:\n",
    "        if not tail < 0:\n",
    "            return '\\n'.join(lines[head:-(tail+1)])\n",
    "\n",
    "\n",
    "# `reviews_array` is a tuple variable\n",
    "for review in reviews_array:\n",
    "    if review[0].startswith(\"```\"):\n",
    "        # Get the real first line: Reivew:Name\n",
    "        first_line = review[0].split('\\n')[1]\n",
    "        # Extract lesson idx and student name in the text. <<< Review:name:lesson >>>\n",
    "        # Get the active lesson index\n",
    "        lesson = first_line.split(':')[-1]\n",
    "        # Get the student name\n",
    "        name = first_line.split(':')[-2].upper().strip()\n",
    "        # Remove the first and last line\n",
    "        text = remove_lines(review[0], 1, 1)\n",
    "\n",
    "        # Create a new notebook\n",
    "        new_nb = nbformat.v4.new_notebook()\n",
    "        # Add markdown cell\n",
    "        new_nb.cells.append(nbformat.v4.new_markdown_cell(text))\n",
    "\n",
    "        # Save Notebook\n",
    "        output_path = f'./reviews/review_{name}_{lesson}.ipynb'\n",
    "        os.makedirs('./reviews', exist_ok=True)\n",
    "        \n",
    "        with open(output_path, 'w', encoding='utf-8') as f:\n",
    "            nbformat.write(new_nb, f)\n",
    "        print(f\"{name}'s review has been created：{output_path}\")"
   ]
  }
 ],
 "metadata": {
  "kernelspec": {
   "display_name": "learnclass",
   "language": "python",
   "name": "python3"
  },
  "language_info": {
   "codemirror_mode": {
    "name": "ipython",
    "version": 3
   },
   "file_extension": ".py",
   "mimetype": "text/x-python",
   "name": "python",
   "nbconvert_exporter": "python",
   "pygments_lexer": "ipython3",
   "version": "3.10.15"
  }
 },
 "nbformat": 4,
 "nbformat_minor": 2
}

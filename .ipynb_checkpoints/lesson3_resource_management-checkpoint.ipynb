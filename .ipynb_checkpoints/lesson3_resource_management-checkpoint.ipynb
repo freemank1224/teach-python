{
 "cells": [
  {
   "cell_type": "markdown",
   "metadata": {},
   "source": [
    "# 第三环节：太空资源管理\n",
    "\n",
    "欢迎来到第三次太空任务！在这个环节中，你将学习如何使用Python的函数、列表和字典来管理空间站的资源系统。\n",
    "\n",
    "## 学习目标\n",
    "- 理解函数的概念和用途\n",
    "- 掌握列表和字典的基本操作\n",
    "- 学习字符串处理方法\n",
    "\n",
    "## 1. 函数基础\n",
    "### 1.1 创建和使用函数\n",
    "函数就像是一个可以重复使用的工具箱，我们可以把常用的操作打包成函数："
   ]
  },
  {
   "cell_type": "code",
   "execution_count": null,
   "metadata": {},
   "outputs": [],
   "source": [
    "def check_resource_level(resource_name, current_amount, minimum_required):\n",
    "    if current_amount < minimum_required:\n",
    "        return f\"警告：{resource_name}储量不足！当前数量：{current_amount}\"\n",
    "    else:\n",
    "        return f\"{resource_name}储量充足。当前数量：{current_amount}\"\n",
    "\n",
    "# 使用函数检查氧气和水的储量\n",
    "print(check_resource_level(\"氧气\", 85, 50))\n",
    "print(check_resource_level(\"水\", 30, 40))"
   ]
  },
  {
   "cell_type": "markdown",
   "metadata": {},
   "source": [
    "### 1.2 函数的参数和返回值\n",
    "函数可以接收不同的参数，并返回处理结果："
   ]
  },
  {
   "cell_type": "code",
   "execution_count": null,
   "metadata": {},
   "outputs": [],
   "source": [
    "def calculate_consumption(crew_count, days):\n",
    "    daily_water_per_person = 2  # 每人每天2升水\n",
    "    daily_food_per_person = 1.5  # 每人每天1.5kg食物\n",
    "    \n",
    "    total_water = crew_count * daily_water_per_person * days\n",
    "    total_food = crew_count * daily_food_per_person * days\n",
    "    \n",
    "    return total_water, total_food\n",
    "\n",
    "# 计算3名宇航员10天的消耗\n",
    "water_needed, food_needed = calculate_consumption(3, 10)\n",
    "print(f\"需要准备的水量：{water_needed}升\")\n",
    "print(f\"需要准备的食物：{food_needed}千克\")"
   ]
  },
  {
   "cell_type": "markdown",
   "metadata": {},
   "source": [
    "## 2. 列表操作\n",
    "### 2.1 创建和管理补给清单\n",
    "列表可以帮助我们管理多个相关的项目："
   ]
  },
  {
   "cell_type": "code",
   "execution_count": 2,
   "metadata": {},
   "outputs": [
    {
     "name": "stdout",
     "output_type": "stream",
     "text": [
      "医疗包已备妥\n",
      "补给清单检查：\n",
      "1. 氧气罐\n",
      "2. 饮用水\n",
      "3. 食物\n",
      "4. 医疗包\n",
      "5. 工具箱\n",
      "6. 应急照明\n"
     ]
    }
   ],
   "source": [
    "# 创建补给清单\n",
    "supplies = [\"氧气罐\", \"饮用水\", \"食物\", \"医疗包\", \"工具箱\"]\n",
    "\n",
    "# 添加新物品\n",
    "supplies.append(\"应急照明\")\n",
    "\n",
    "# 检查物品是否在清单中\n",
    "if \"医疗包\" in supplies:\n",
    "    print(\"医疗包已备妥\")\n",
    "\n",
    "# 遍历清单\n",
    "print(\"补给清单检查：\")\n",
    "for i, item in enumerate(supplies, 1):\n",
    "    print(f\"{i}. {item}\")"
   ]
  },
  {
   "cell_type": "markdown",
   "metadata": {},
   "source": [
    "### 2.2 列表的高级操作\n",
    "我们可以对列表进行排序、切片等操作："
   ]
  },
  {
   "cell_type": "code",
   "execution_count": 3,
   "metadata": {},
   "outputs": [
    {
     "name": "stdout",
     "output_type": "stream",
     "text": [
      "最重要的物品： ['氧气罐', '饮用水', '食物']\n",
      "按字母顺序排序：\n",
      "医疗包\n",
      "工具箱\n",
      "应急照明\n",
      "氧气罐\n",
      "食物\n",
      "饮用水\n"
     ]
    }
   ],
   "source": [
    "# 物品重要性排序\n",
    "critical_supplies = supplies[:3]  # 获取前三个最重要的物品\n",
    "print(\"最重要的物品：\", critical_supplies)\n",
    "\n",
    "# 按字母顺序排序\n",
    "sorted_supplies = sorted(supplies)\n",
    "print(\"按字母顺序排序：\")\n",
    "for item in sorted_supplies:\n",
    "    print(item)"
   ]
  },
  {
   "cell_type": "markdown",
   "metadata": {},
   "source": [
    "## 3. 字典使用\n",
    "### 3.1 使用字典管理资源数量\n",
    "字典可以帮助我们将物品和它们的数量关联起来："
   ]
  },
  {
   "cell_type": "code",
   "execution_count": 4,
   "metadata": {},
   "outputs": [
    {
     "name": "stdout",
     "output_type": "stream",
     "text": [
      "空间站资源清单：\n",
      "氧气: 1000单位\n",
      "水: 450单位\n",
      "食物: 300单位\n",
      "燃料: 800单位\n",
      "医疗用品: 100单位\n"
     ]
    }
   ],
   "source": [
    "# 创建资源字典\n",
    "resources = {\n",
    "    \"氧气\": 1000,  # 升\n",
    "    \"水\": 500,    # 升\n",
    "    \"食物\": 300,   # 千克\n",
    "    \"燃料\": 800    # 升\n",
    "}\n",
    "\n",
    "# 更新资源数量\n",
    "resources[\"水\"] -= 50  # 使用了50升水\n",
    "\n",
    "# 添加新资源\n",
    "resources[\"医疗用品\"] = 100\n",
    "\n",
    "# 显示所有资源\n",
    "print(\"空间站资源清单：\")\n",
    "for item, amount in resources.items():\n",
    "    print(f\"{item}: {amount}单位\")"
   ]
  },
  {
   "cell_type": "markdown",
   "metadata": {},
   "source": [
    "### 3.2 资源分配系统\n",
    "让我们创建一个完整的资源分配系统："
   ]
  },
  {
   "cell_type": "code",
   "execution_count": null,
   "metadata": {},
   "outputs": [],
   "source": [
    "def allocate_resources(resources, crew_members, days):\n",
    "    # 计算每个宇航员的资源分配\n",
    "    allocations = {}\n",
    "    \n",
    "    for crew in crew_members:\n",
    "        # 计算个人资源配额\n",
    "        water_quota = (resources[\"水\"] / len(crew_members)) * 0.8  # 预留20%作为备用\n",
    "        food_quota = (resources[\"食物\"] / len(crew_members)) * 0.8\n",
    "        \n",
    "        allocations[crew] = {\n",
    "            \"水\": round(water_quota, 2),\n",
    "            \"食物\": round(food_quota, 2)\n",
    "        }\n",
    "    \n",
    "    return allocations\n",
    "\n",
    "# 测试资源分配系统\n",
    "crew_members = [\"张航员\", \"李航员\", \"王航员\"]\n",
    "\n",
    "# 分配资源\n",
    "allocations = allocate_resources(resources, crew_members, 10)\n",
    "\n",
    "# 显示分配结果\n",
    "print(\"资源分配方案：\")\n",
    "for crew, allocation in allocations.items():\n",
    "    print(f\"\n",
    "{crew}的资源配额：\")\n",
    "    for resource, amount in allocation.items():\n",
    "        print(f\"{resource}: {amount}单位\")"
   ]
  },
  {
   "cell_type": "markdown",
   "metadata": {},
   "source": [
    "## 4. 练习任务\n",
    "现在轮到你来管理空间站的资源系统！完成以下任务：\n",
    "\n",
    "1. 创建一个函数来检查所有资源的储备状态\n",
    "2. 设计一个补给清单管理系统\n",
    "3. 实现一个资源消耗预警系统\n",
    "\n",
    "在下面的代码块中编写你的代码："
   ]
  },
  {
   "cell_type": "code",
   "execution_count": null,
   "metadata": {},
   "outputs": [],
   "source": [
    "# 在这里编写你的代码\n",
    "# 1. 资源储备检查函数\n",
    "\n",
    "# 2. 补给清单管理系统\n",
    "\n",
    "# 3. 资源消耗预警系统\n"
   ]
  },
  {
   "cell_type": "markdown",
   "metadata": {},
   "source": [
    "## 5. 小测验\n",
    "1. 函数的参数和返回值有什么作用？\n",
    "2. 列表和字典的主要区别是什么？\n",
    "3. 如何在字典中更新和删除数据？\n",
    "\n",
    "## 下一步\n",
    "太棒了！你已经掌握了Python的函数、列表和字典的使用。在下一个环节中，我们将学习如何处理文件和数据，让我们的太空站管理系统更加完善。准备好继续探索了吗？"
   ]
  }
 ],
 "metadata": {
  "kernelspec": {
   "display_name": "learnclass",
   "language": "python",
   "name": "python3"
  },
  "language_info": {
   "codemirror_mode": {
    "name": "ipython",
    "version": 3
   },
   "file_extension": ".py",
   "mimetype": "text/x-python",
   "name": "python",
   "nbconvert_exporter": "python",
   "pygments_lexer": "ipython3",
   "version": "3.10.15"
  }
 },
 "nbformat": 4,
 "nbformat_minor": 2
}

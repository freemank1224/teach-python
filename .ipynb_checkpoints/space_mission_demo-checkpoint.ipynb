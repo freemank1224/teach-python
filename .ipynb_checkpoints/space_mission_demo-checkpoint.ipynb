{
 "cells": [
  {
   "cell_type": "markdown",
   "metadata": {},
   "source": [
    "# 太空任务控制台演示\n",
    "这个notebook展示了如何使用各种交互式组件和可视化库来增强Python课程的学习体验。"
   ]
  },
  {
   "cell_type": "code",
   "execution_count": 1,
   "metadata": {},
   "outputs": [
    {
     "ename": "ModuleNotFoundError",
     "evalue": "No module named 'ipywidgets'",
     "output_type": "error",
     "traceback": [
      "\u001b[0;31m---------------------------------------------------------------------------\u001b[0m",
      "\u001b[0;31mModuleNotFoundError\u001b[0m                       Traceback (most recent call last)",
      "Cell \u001b[0;32mIn[1], line 2\u001b[0m\n\u001b[1;32m      1\u001b[0m \u001b[38;5;66;03m# 导入所需的库\u001b[39;00m\n\u001b[0;32m----> 2\u001b[0m \u001b[38;5;28;01mimport\u001b[39;00m\u001b[38;5;250m \u001b[39m\u001b[38;5;21;01mipywidgets\u001b[39;00m\u001b[38;5;250m \u001b[39m\u001b[38;5;28;01mas\u001b[39;00m\u001b[38;5;250m \u001b[39m\u001b[38;5;21;01mwidgets\u001b[39;00m\n\u001b[1;32m      3\u001b[0m \u001b[38;5;28;01mimport\u001b[39;00m\u001b[38;5;250m \u001b[39m\u001b[38;5;21;01mmatplotlib\u001b[39;00m\u001b[38;5;21;01m.\u001b[39;00m\u001b[38;5;21;01mpyplot\u001b[39;00m\u001b[38;5;250m \u001b[39m\u001b[38;5;28;01mas\u001b[39;00m\u001b[38;5;250m \u001b[39m\u001b[38;5;21;01mplt\u001b[39;00m\n\u001b[1;32m      4\u001b[0m \u001b[38;5;28;01mimport\u001b[39;00m\u001b[38;5;250m \u001b[39m\u001b[38;5;21;01mplotly\u001b[39;00m\u001b[38;5;21;01m.\u001b[39;00m\u001b[38;5;21;01mexpress\u001b[39;00m\u001b[38;5;250m \u001b[39m\u001b[38;5;28;01mas\u001b[39;00m\u001b[38;5;250m \u001b[39m\u001b[38;5;21;01mpx\u001b[39;00m\n",
      "\u001b[0;31mModuleNotFoundError\u001b[0m: No module named 'ipywidgets'"
     ]
    }
   ],
   "source": [
    "# 导入所需的库\n",
    "import ipywidgets as widgets\n",
    "import matplotlib.pyplot as plt\n",
    "import plotly.express as px\n",
    "import numpy as np\n",
    "from IPython.display import display, HTML"
   ]
  },
  {
   "cell_type": "markdown",
   "metadata": {},
   "source": [
    "## 1. 发射控制台模拟\n",
    "使用ipywidgets创建交互式控制面板"
   ]
  },
  {
   "cell_type": "code",
   "execution_count": null,
   "metadata": {},
   "outputs": [],
   "source": [
    "# 创建发射控制面板\n",
    "astronaut_name = widgets.Text(description='航天员姓名：')\n",
    "mission_type = widgets.Dropdown(\n",
    "    options=['月球探索', '火星探测', '空间站补给'],\n",
    "    description='任务类型：'\n",
    ")\n",
    "launch_button = widgets.Button(description='开始发射倒计时')\n",
    "status_output = widgets.Output()\n",
    "\n",
    "def on_launch_click(b):\n",
    "    with status_output:\n",
    "        status_output.clear_output()\n",
    "        print(f'航天员{astronaut_name.value}准备执行{mission_type.value}任务')\n",
    "        for i in range(10, 0, -1):\n",
    "            print(f'倒计时：{i}秒')\n",
    "            time.sleep(1)\n",
    "        print('发射！🚀')\n",
    "\n",
    "launch_button.on_click(on_launch_click)\n",
    "\n",
    "display(widgets.VBox([astronaut_name, mission_type, launch_button, status_output]))"
   ]
  },
  {
   "cell_type": "markdown",
   "metadata": {},
   "source": [
    "## 2. 太空资源可视化\n",
    "使用Plotly创建交互式图表"
   ]
  },
  {
   "cell_type": "code",
   "execution_count": null,
   "metadata": {},
   "outputs": [],
   "source": [
    "# 创建示例数据\n",
    "resources = ['氧气', '水', '食物', '燃料']\n",
    "levels = [75, 60, 85, 45]\n",
    "\n",
    "# 使用Plotly创建交互式仪表盘\n",
    "fig = px.bar(\n",
    "    x=resources,\n",
    "    y=levels,\n",
    "    title='空间站资源状态',\n",
    "    labels={'x': '资源类型', 'y': '剩余量(%)'},\n",
    "    color=levels,\n",
    "    color_continuous_scale='Viridis'\n",
    ")\n",
    "\n",
    "fig.show()"
   ]
  },
  {
   "cell_type": "markdown",
   "metadata": {},
   "source": [
    "## 3. 航线规划模拟\n",
    "使用Matplotlib创建太空航线图"
   ]
  },
  {
   "cell_type": "code",
   "execution_count": null,
   "metadata": {},
   "outputs": [],
   "source": [
    "# 创建太空航线图\n",
    "plt.style.use('dark_background')  # 使用深色主题\n",
    "fig, ax = plt.subplots(figsize=(10, 8))\n",
    "\n",
    "# 绘制行星位置\n",
    "earth = plt.Circle((0, 0), 0.2, color='blue', label='地球')\n",
    "mars = plt.Circle((2, 2), 0.15, color='red', label='火星')\n",
    "\n",
    "ax.add_patch(earth)\n",
    "ax.add_patch(mars)\n",
    "\n",
    "# 绘制航线\n",
    "trajectory = plt.plot([0, 2], [0, 2], '--w', label='航线')\n",
    "\n",
    "ax.set_xlim(-1, 3)\n",
    "ax.set_ylim(-1, 3)\n",
    "ax.set_aspect('equal')\n",
    "ax.legend()\n",
    "ax.set_title('火星航线规划')\n",
    "\n",
    "# 添加星星背景\n",
    "stars = np.random.rand(100, 2) * 4 - 1\n",
    "ax.scatter(stars[:, 0], stars[:, 1], c='white', alpha=0.5, s=1)\n",
    "\n",
    "plt.show()"
   ]
  }
 ],
 "metadata": {
  "kernelspec": {
   "display_name": "learnclass",
   "language": "python",
   "name": "python3"
  },
  "language_info": {
   "codemirror_mode": {
    "name": "ipython",
    "version": 3
   },
   "file_extension": ".py",
   "mimetype": "text/x-python",
   "name": "python",
   "nbconvert_exporter": "python",
   "pygments_lexer": "ipython3",
   "version": "3.10.15"
  }
 },
 "nbformat": 4,
 "nbformat_minor": 4
}

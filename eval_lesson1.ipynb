{
 "cells": [
  {
   "cell_type": "code",
   "execution_count": 10,
   "id": "952b4859-a87f-4efc-b449-57b8989a9e72",
   "metadata": {},
   "outputs": [],
   "source": [
    "import getpass\n",
    "key = getpass.getpass(\"Please input your password:\")"
   ]
  },
  {
   "cell_type": "code",
   "execution_count": 2,
   "id": "b3418a05-003a-4d0d-aec4-d7b24bcc4615",
   "metadata": {},
   "outputs": [],
   "source": [
    "code_seg = 1"
   ]
  },
  {
   "cell_type": "code",
   "execution_count": 17,
   "id": "3fd0befc-480f-4766-87e8-8d840f144627",
   "metadata": {},
   "outputs": [],
   "source": [
    "import nbformat\n",
    "from nbclient import NotebookClient\n",
    "\n",
    "def get_cell_content(notebook_path, cell_index):\n",
    "    with open(notebook_path) as f:\n",
    "        nb = nbformat.read(f, as_version=4)\n",
    "\n",
    "    if 0 <= cell_index < len(nb.cells):\n",
    "        return nb.cells[cell_index]\n",
    "    else:\n",
    "        raise IndexError(\"Cell index out of range!\")"
   ]
  },
  {
   "cell_type": "code",
   "execution_count": 20,
   "id": "1fe340e7-9dcc-492e-87c4-14cba5b35b55",
   "metadata": {},
   "outputs": [],
   "source": [
    "with open('./lesson1_space_command.ipynb') as f:\n",
    "    nb = nbformat.read(f, as_version=4)"
   ]
  },
  {
   "cell_type": "code",
   "execution_count": 30,
   "id": "9a935d13-e8f0-43ab-81f8-dcedda8794c7",
   "metadata": {},
   "outputs": [
    {
     "name": "stdout",
     "output_type": "stream",
     "text": [
      "9\n",
      "1\n"
     ]
    }
   ],
   "source": [
    "code_cell = [cell for cell in nb.cells if cell.cell_type=='code']\n",
    "review_cell = [cell for cell in code_cell if 'review'.lower() in cell.source.lower()]\n",
    "print(len(code_cell))\n",
    "print(len(review_cell))"
   ]
  },
  {
   "cell_type": "code",
   "execution_count": null,
   "id": "36077456-4484-4847-ae13-9b7997fd70e9",
   "metadata": {},
   "outputs": [],
   "source": [
    "print(review_cell)"
   ]
  },
  {
   "cell_type": "code",
   "execution_count": 19,
   "id": "31b80166-c1d6-47b7-9ebc-cf1a9a1aab99",
   "metadata": {},
   "outputs": [
    {
     "name": "stdout",
     "output_type": "stream",
     "text": [
      "{'cell_type': 'code', 'execution_count': None, 'metadata': {}, 'outputs': [], 'source': \"# 数学运算\\nfuel_capacity = 1000    # 燃料容量（升）\\nfuel_used = 300        # 已使用燃料（升）\\nfuel_remaining = fuel_capacity - fuel_used\\n\\n# 字符串拼接\\nmission_name = '探索者'\\nmission_number = 1\\nfull_mission_name = mission_name + str(mission_number)\\n\\nprint(f'剩余燃料：{fuel_remaining}升')\\nprint(f'任务代号：{full_mission_name}')\"}\n"
     ]
    }
   ],
   "source": [
    "content = get_cell_content('./lesson1_space_command.ipynb', 3)\n",
    "print(content)"
   ]
  },
  {
   "cell_type": "code",
   "execution_count": 3,
   "id": "007614c3-5fab-4c8a-b8ae-46b9efa5975e",
   "metadata": {},
   "outputs": [],
   "source": [
    "%load_ext jupyter_ai_magics\n",
    "%config AiMagics.default_language_model = 'ollama:phi4'"
   ]
  },
  {
   "cell_type": "code",
   "execution_count": 14,
   "id": "21dae117-656d-4feb-bbfc-82843cdfcc7d",
   "metadata": {},
   "outputs": [
    {
     "data": {
      "text/markdown": [
       "### 代码审查与建议\n",
       "\n",
       "以下是对提供代码的详细审查和改进建议，该代码用于获取Jupyter Notebook中之前执行过的单元格信息：\n",
       "\n",
       "#### 方法1：使用 `In` 和 `Out` 魔法变量\n",
       "\n",
       "```python\n",
       "previous_cell_code = In[-2]  # 获取前一个Cell的代码\n",
       "previous_cell_output = Out.get(-2, None)  # 获取前一个Cell的输出结果\n",
       "```\n",
       "\n",
       "- **安全检查**：确保在访问 `In` 和 `Out` 时有足够的条目以避免索引错误。\n",
       "  ```python\n",
       "  previous_cell_code = In[-2] if len(In) > 1 else None\n",
       "  previous_cell_output = Out.get(-2, None) if len(Out) > 1 else None\n",
       "  ```\n",
       "\n",
       "- **增强的注释**：为每行代码添加更具描述性的注释，以澄清其目的和逻辑。\n",
       "  ```python\n",
       "  # 使用 In 魔法变量获取两个单元格之前的代码，如果不存在则返回 None\n",
       "  # 使用 Out 魔法变量获取两个单元格之前的输出结果，如果不存在则返回 None\n",
       "  ```\n",
       "\n",
       "- **异常处理**：考虑使用 try-except 块来捕获潜在的访问这些变量时的异常，以提高代码鲁棒性。\n",
       "\n",
       "#### 方法2：使用 `get_ipython()` 获取历史记录\n",
       "\n",
       "```python\n",
       "ip = get_ipython()\n",
       "history = ip.history_manager.get_range()\n",
       "previous_cell_code = list(history)[-2][2]  # 获取前一个Cell的代码\n",
       "```\n",
       "\n",
       "- **安全检查**：确保在访问历史记录时有足够的条目，类似于方法1。\n",
       "  ```python\n",
       "  previous_cell_code = list(history)[-2][2] if len(history) > 1 else None\n",
       "  ```\n",
       "\n",
       "- **变量命名和注释**：\n",
       "  - 考虑将 `previous_cell_code` 重命名为更具描述性的名称，如 `second_last_cell_code`。\n",
       "  - 添加一个注释来解释正在执行的特定操作。\n",
       "    ```python\n",
       "    # 使用 Jupyter 的历史管理器获取上一个单元格的代码\n",
       "    ```\n",
       "\n",
       "- **效率**：如果计划多次访问 `history`，只需将其转换为列表一次以提高性能。\n",
       "\n",
       "#### 一般建议\n",
       "\n",
       "- **重启内核**：注意，内核重启会重置 `In`, `Out` 和历史记录。使用这些变量时需要考虑此点。\n",
       "\n",
       "- **代码一致性**：确保按照 PEP 8 标准进行格式化以提高可读性。\n",
       "\n",
       "- **安全性**：如果进一步使用检索到的代码或输出，应对其进行过滤以防止潜在的安全问题（如执行意外命令）。\n",
       "\n",
       "通过采纳这些建议，可以增强Jupyter Notebook中代码的鲁棒性、清晰度和可维护性。"
      ],
      "text/plain": [
       "<IPython.core.display.Markdown object>"
      ]
     },
     "execution_count": 14,
     "metadata": {
      "text/markdown": {
       "jupyter_ai": {
        "model_id": "phi4",
        "provider_id": "ollama"
       }
      }
     },
     "output_type": "execute_result"
    }
   ],
   "source": [
    "%%ai\n",
    "In this cell, you will review the code shown in {In[1]}. Give your suggestion to the code! Remember to give your answer in Chinese. \n"
   ]
  },
  {
   "cell_type": "code",
   "execution_count": null,
   "id": "f5a9ee63-8121-4064-8302-ac6ee0307ed3",
   "metadata": {},
   "outputs": [],
   "source": [
    "import jupyter_core"
   ]
  },
  {
   "cell_type": "code",
   "execution_count": 1,
   "id": "455d8ad8-b164-4b2b-bcf2-f1deffce9a18",
   "metadata": {},
   "outputs": [
    {
     "ename": "IndexError",
     "evalue": "list index out of range",
     "output_type": "error",
     "traceback": [
      "\u001b[0;31m---------------------------------------------------------------------------\u001b[0m",
      "\u001b[0;31mIndexError\u001b[0m                                Traceback (most recent call last)",
      "Cell \u001b[0;32mIn[1], line 8\u001b[0m\n\u001b[1;32m      6\u001b[0m ip \u001b[38;5;241m=\u001b[39m get_ipython()\n\u001b[1;32m      7\u001b[0m history \u001b[38;5;241m=\u001b[39m ip\u001b[38;5;241m.\u001b[39mhistory_manager\u001b[38;5;241m.\u001b[39mget_range()\n\u001b[0;32m----> 8\u001b[0m previous_cell_code \u001b[38;5;241m=\u001b[39m \u001b[38;5;28;43mlist\u001b[39;49m\u001b[43m(\u001b[49m\u001b[43mhistory\u001b[49m\u001b[43m)\u001b[49m\u001b[43m[\u001b[49m\u001b[38;5;241;43m-\u001b[39;49m\u001b[38;5;241;43m2\u001b[39;49m\u001b[43m]\u001b[49m[\u001b[38;5;241m2\u001b[39m]  \u001b[38;5;66;03m# 获取前一个Cell的代码\u001b[39;00m\n",
      "\u001b[0;31mIndexError\u001b[0m: list index out of range"
     ]
    }
   ],
   "source": [
    "# 方法1：使用 In 和 Out 魔法变量\n",
    "previous_cell_code = In[-2]  # 获取前一个Cell的代码\n",
    "previous_cell_output = Out.get(-2, None)  # 获取前一个Cell的输出结果\n",
    "\n",
    "# 方法2：使用 get_ipython() 获取历史记录\n",
    "ip = get_ipython()\n",
    "history = ip.history_manager.get_range()\n",
    "previous_cell_code = list(history)[-2][2]  # 获取前一个Cell的代码"
   ]
  },
  {
   "cell_type": "code",
   "execution_count": null,
   "id": "4a2a65d6-0f62-4dc3-9d76-9248969e54f3",
   "metadata": {},
   "outputs": [],
   "source": [
    "current_cell_code = In[-1]"
   ]
  },
  {
   "cell_type": "code",
   "execution_count": null,
   "id": "3860b02f-1bd0-46ce-a3e3-8013e04ec8da",
   "metadata": {},
   "outputs": [],
   "source": [
    "print(current_cell_code)"
   ]
  },
  {
   "cell_type": "code",
   "execution_count": null,
   "id": "6d0ef137-b04f-4fd9-bf15-dbe404811364",
   "metadata": {},
   "outputs": [],
   "source": [
    "# 单元格1\n",
    "code_in_cell_1 = \"\"\"\n",
    "def add(a, b):\n",
    "    return a + b\n",
    "\"\"\""
   ]
  },
  {
   "cell_type": "code",
   "execution_count": null,
   "id": "dfb21df8-0660-467a-bc9c-64d2bddce709",
   "metadata": {},
   "outputs": [],
   "source": [
    "def mul(a,b):\n",
    "    return a * b"
   ]
  },
  {
   "cell_type": "code",
   "execution_count": null,
   "id": "51db2a5d-f62e-41f7-a636-487b40300ce4",
   "metadata": {},
   "outputs": [],
   "source": [
    "from IPython import get_ipython\n",
    "\n",
    "# 执行单元格1的代码\n",
    "get_ipython().run_cell(6)\n",
    "\n",
    "# 单元格2\n",
    "result = mul(3, 4)\n",
    "print(result)  # 输出 7\n"
   ]
  },
  {
   "cell_type": "code",
   "execution_count": null,
   "id": "05c8770f-d182-4a65-aa55-ef15f24e200c",
   "metadata": {},
   "outputs": [],
   "source": []
  }
 ],
 "metadata": {
  "kernelspec": {
   "display_name": "Python 3 (ipykernel)",
   "language": "python",
   "name": "python3"
  },
  "language_info": {
   "codemirror_mode": {
    "name": "ipython",
    "version": 3
   },
   "file_extension": ".py",
   "mimetype": "text/x-python",
   "name": "python",
   "nbconvert_exporter": "python",
   "pygments_lexer": "ipython3",
   "version": "3.10.15"
  }
 },
 "nbformat": 4,
 "nbformat_minor": 5
}

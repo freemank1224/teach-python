{
 "cells": [
  {
   "cell_type": "markdown",
   "metadata": {},
   "source": [
    "# 第一环节：太空指挥中心初体验\n",
    "\n",
    "欢迎来到太空指挥中心！在这个环节中，你将学习如何使用Python命令来操作发射控制台，开启你的太空探索之旅。\n",
    "\n",
    "## 学习目标\n",
    "- 理解Python与图形化编程的区别\n",
    "- 掌握Python基本语法（变量、数据类型、print函数）\n",
    "- 学会使用Python交互式环境"
   ]
  },
  {
   "cell_type": "code",
   "execution_count": null,
   "metadata": {},
   "outputs": [],
   "source": [
    "# 存储航天员信息\n",
    "astronaut_name = '张三'  # 字符串类型\n",
    "age = 28               # 整数类型\n",
    "weight = 65.5         # 浮点数类型\n",
    "is_ready = True       # 布尔类型\n",
    "\n",
    "# 查看变量的数据类型\n",
    "print(f'姓名类型：{type(astronaut_name)}')\n",
    "print(f'年龄类型：{type(age)}')\n",
    "print(f'体重类型：{type(weight)}')\n",
    "print(f'准备状态类型：{type(is_ready)}')"
   ]
  },
  {
   "cell_type": "markdown",
   "metadata": {},
   "source": [
    "### 1.2 变量的使用\n",
    "我们可以对变量进行各种操作，比如数学计算或字符串拼接："
   ]
  },
  {
   "cell_type": "code",
   "execution_count": null,
   "metadata": {},
   "outputs": [],
   "source": [
    "# 数学运算\n",
    "fuel_capacity = 1000    # 燃料容量（升）\n",
    "fuel_used = 300        # 已使用燃料（升）\n",
    "fuel_remaining = fuel_capacity - fuel_used\n",
    "\n",
    "# 字符串拼接\n",
    "mission_name = '探索者'\n",
    "mission_number = 1\n",
    "full_mission_name = mission_name + str(mission_number)\n",
    "\n",
    "print(f'剩余燃料：{fuel_remaining}升')\n",
    "print(f'任务代号：{full_mission_name}')"
   ]
  },
  {
   "cell_type": "markdown",
   "metadata": {},
   "source": [
    "## 2. print函数\n",
    "在发射控制台中，我们需要向航天员发送各种指令和信息。Python的print函数就是我们的通讯工具："
   ]
  },
  {
   "cell_type": "code",
   "execution_count": null,
   "metadata": {},
   "outputs": [],
   "source": [
    "# 基本打印\n",
    "print('发射控制系统已启动')\n",
    "\n",
    "# 格式化打印\n",
    "launch_time = '10:30'\n",
    "weather = '晴朗'\n",
    "print(f'发射时间：{launch_time}')\n",
    "print(f'天气状况：{weather}')\n",
    "\n",
    "# 多行打印\n",
    "print('''\n",
    "系统状态检查：\n",
    "1. 燃料系统 - 正常\n",
    "2. 导航系统 - 正常\n",
    "3. 生命支持 - 正常\n",
    "''')"
   ]
  },
  {
   "cell_type": "code",
   "execution_count": null,
   "metadata": {},
   "outputs": [],
   "source": [
    "# 发射控制台模拟系统\n",
    "# 设置航天员信息\n",
    "import time\n",
    "commander_name = '王舰长'\n",
    "mission_time = '2024-01-01 08:00'\n",
    "rocket_type = '长征5号'\n",
    "\n",
    "# 打印任务信息\n",
    "print('='*50)\n",
    "print('太空任务控制系统')\n",
    "print('='*50)\n",
    "print(f'指挥官：{commander_name}')\n",
    "print(f'发射时间：{mission_time}')\n",
    "print(f'火箭型号：{rocket_type}')\n",
    "print('='*50)\n",
    "\n",
    "# 倒计时模拟\n",
    "countdown = 10\n",
    "while countdown > 0:\n",
    "    print(f'倒计时：{countdown}')\n",
    "    countdown -= 1\n",
    "    time.sleep(1)\n",
    "\n",
    "print('\\n点火！火箭发射！')"
   ]
  },
  {
   "cell_type": "markdown",
   "metadata": {},
   "source": [
    "------------"
   ]
  },
  {
   "cell_type": "markdown",
   "metadata": {},
   "source": [
    "## 在下面标有`Answer`的单元格写下你的答案"
   ]
  },
  {
   "cell_type": "code",
   "execution_count": 1,
   "metadata": {},
   "outputs": [
    {
     "name": "stdout",
     "output_type": "stream",
     "text": [
      "指挥官：章北海\n",
      "发射时间：危机纪元第205年\n",
      "火箭型号：自然选择号\n",
      "==================================================\n",
      "发射控制系统已启动\n",
      "发射时间：13:00\n",
      "天气状况：晴朗\n",
      "\n",
      "系统状态检查：\n",
      "1. 燃料系统 - 正常\n",
      "2. 导航系统 - 正常\n",
      "3. 生命支持 - 正常\n",
      "已进入深海状态\n",
      "\n",
      "自然选择，前进四!\n",
      "\n",
      "\n",
      "倒计时：10\n",
      "倒计时：9\n",
      "倒计时：8\n",
      "倒计时：7\n",
      "倒计时：6\n",
      "倒计时：5\n",
      "倒计时：4\n",
      "倒计时：3\n",
      "倒计时：2\n",
      "倒计时：1\n",
      "\n",
      "学姐发芽的哄\n"
     ]
    }
   ],
   "source": [
    "# ----Answer----\n",
    "\n",
    "# 1. 建立一个航天员档案\n",
    "import time\n",
    "\n",
    "commander_name = '章北海'\n",
    "mission_time = '危机纪元第205年'\n",
    "rocket_type = '自然选择号'\n",
    "print(f'指挥官：{commander_name}')\n",
    "print(f'发射时间：{mission_time}')\n",
    "print(f'火箭型号：{rocket_type}')\n",
    "print('='*50)\n",
    "# 2. 发射报告\n",
    "print('发射控制系统已启动')\n",
    "\n",
    "# 格式化打印\n",
    "launch_time = '13:00'\n",
    "weather = '晴朗'\n",
    "print(f'发射时间：{launch_time}')\n",
    "print(f'天气状况：{weather}')\n",
    "\n",
    "# 多行打印\n",
    "print('''\n",
    "系统状态检查：\n",
    "1. 燃料系统 - 正常\n",
    "2. 导航系统 - 正常\n",
    "3. 生命支持 - 正常\n",
    "已进入深海状态\n",
    "''')\n",
    "print('自然选择，前进四!')\n",
    "print('\\n')\n",
    "# 3. 发射倒计时\n",
    "\n",
    "countdown = 10\n",
    "while countdown > 0:\n",
    "    print(f'倒计时：{countdown}')\n",
    "    countdown -= 1\n",
    "    time.sleep(1)\n",
    "\n",
    "print('\\n学姐发芽的哄')"
   ]
  }
 ],
 "metadata": {
  "kernelspec": {
   "display_name": "learnclass",
   "language": "python",
   "name": "python3"
  },
  "language_info": {
   "codemirror_mode": {
    "name": "ipython",
    "version": 3
   },
   "file_extension": ".py",
   "mimetype": "text/x-python",
   "name": "python",
   "nbconvert_exporter": "python",
   "pygments_lexer": "ipython3",
   "version": "3.10.15"
  }
 },
 "nbformat": 4,
 "nbformat_minor": 4
}

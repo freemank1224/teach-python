{
 "cells": [
  {
   "cell_type": "markdown",
   "metadata": {},
   "source": [
    "# 第二环节：星际航行控制\n",
    "\n",
    "欢迎来到第二次太空任务！在这个环节中，你将学习如何使用Python的条件语句和循环结构来控制航天器的飞行路线。\n",
    "\n",
    "## 学习目标\n",
    "- 掌握条件语句（if-else）\n",
    "- 理解循环结构（for, while）\n",
    "- 学习基本的用户输入处理"
   ]
  },
  {
   "cell_type": "code",
   "execution_count": null,
   "metadata": {},
   "outputs": [],
   "source": [
    "# 检查燃料状态\n",
    "fuel_level = 30\n",
    "\n",
    "if fuel_level > 50:\n",
    "    print(\"燃料充足，可以继续飞行\")\n",
    "elif fuel_level > 20:\n",
    "    print(\"燃料不足，需要节约使用\")\n",
    "else:\n",
    "    print(\"警告：燃料严重不足，必须立即返航！\")"
   ]
  },
  {
   "cell_type": "code",
   "execution_count": null,
   "metadata": {},
   "outputs": [],
   "source": [
    "# 检查飞行条件\n",
    "weather_good = True\n",
    "systems_check = True\n",
    "crew_ready = True\n",
    "\n",
    "if weather_good and systems_check and crew_ready:\n",
    "    print(\"所有系统正常，可以起飞！\")\n",
    "else:\n",
    "    print(\"起飞条件不满足，请检查各项状态\")"
   ]
  },
  {
   "cell_type": "code",
   "execution_count": null,
   "metadata": {},
   "outputs": [],
   "source": [
    "# 飞行高度监控\n",
    "altitude = 0\n",
    "target_altitude = 100\n",
    "\n",
    "while altitude < target_altitude:\n",
    "    altitude += 10\n",
    "    print(f\"当前高度：{altitude}千米\")\n",
    "\n",
    "print(\"已达到目标高度！\")"
   ]
  },
  {
   "cell_type": "code",
   "execution_count": null,
   "metadata": {},
   "outputs": [],
   "source": [
    "# 系统检查清单\n",
    "check_items = [\"引擎\", \"导航系统\", \"生命支持\", \"通信系统\", \"燃料系统\"]\n",
    "\n",
    "for item in check_items:\n",
    "    print(f\"正在检查{item}...通过！\")"
   ]
  },
  {
   "cell_type": "code",
   "execution_count": null,
   "metadata": {},
   "outputs": [],
   "source": [
    "# 接收地面控制指令\n",
    "print(\"请输入飞行指令（1:加速, 2:减速, 3:保持当前速度）：\")\n",
    "command = input()\n",
    "\n",
    "if command == \"1\":\n",
    "    print(\"正在加速...\")\n",
    "elif command == \"2\":\n",
    "    print(\"正在减速...\")\n",
    "elif command == \"3\":\n",
    "    print(\"保持当前速度\")\n",
    "else:\n",
    "    print(\"无效指令！\")"
   ]
  },
  {
   "cell_type": "code",
   "execution_count": null,
   "metadata": {},
   "outputs": [],
   "source": [
    "# 航线规划系统\n",
    "destinations = [\"月球\", \"火星\", \"木星\", \"土星\"]\n",
    "\n",
    "print(\"可选目的地：\")\n",
    "for i, dest in enumerate(destinations, 1):\n",
    "    print(f\"{i}. {dest}\")\n",
    "\n",
    "print(\"\\n请选择目的地编号：\")\n",
    "choice = input()\n",
    "\n",
    "if choice.isdigit() and 1 <= int(choice) <= len(destinations):\n",
    "    selected = destinations[int(choice)-1]\n",
    "    print(f\"正在规划前往{selected}的航线...\")\n",
    "    \n",
    "    # 模拟航行过程\n",
    "    distance = 0\n",
    "    while distance < 100:\n",
    "        distance += 20\n",
    "        print(f\"已航行：{distance}光年\")\n",
    "    \n",
    "    print(f\"已到达{selected}轨道！\")\n",
    "else:\n",
    "    print(\"无效的选择！\")"
   ]
  },
  {
   "cell_type": "markdown",
   "metadata": {},
   "source": [
    "---"
   ]
  },
  {
   "cell_type": "markdown",
   "metadata": {},
   "source": [
    "# 在以下标有`Answer`的单元格写下你的答案"
   ]
  },
  {
   "cell_type": "code",
   "execution_count": 2,
   "metadata": {},
   "outputs": [],
   "source": [
    "# ----Answer----\n",
    "# 1. 自动驾驶系统\n",
    "\n",
    "# 2. 循环检测系统\n",
    "\n",
    "# 3. 交互式导航系统\n"
   ]
  }
 ],
 "metadata": {
  "kernelspec": {
   "display_name": "learnclass",
   "language": "python",
   "name": "python3"
  },
  "language_info": {
   "codemirror_mode": {
    "name": "ipython",
    "version": 3
   },
   "file_extension": ".py",
   "mimetype": "text/x-python",
   "name": "python",
   "nbconvert_exporter": "python",
   "pygments_lexer": "ipython3",
   "version": "3.10.15"
  }
 },
 "nbformat": 4,
 "nbformat_minor": 4
}

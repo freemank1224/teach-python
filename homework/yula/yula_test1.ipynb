{
 "cells": [
  {
   "cell_type": "code",
   "execution_count": 1,
   "metadata": {},
   "outputs": [],
   "source": [
    "%load_ext jupyter_ai_magics\n",
    "%config AiMagics.default_language_model = 'ollama:deepseek-r1:32b'"
   ]
  },
  {
   "cell_type": "code",
   "execution_count": 6,
   "metadata": {},
   "outputs": [
    {
     "data": {
      "text/markdown": [
       "<think>\n",
       "好的，我需要为一位刚刚掌握Python基础知识的学生设计五个编程测试题。首先，学生已经了解了变量命名方式、基本数据类型（数值型、列表、字典）、流程控制语句（如for和while循环）以及函数的基本定义和使用方法。\n",
       "\n",
       "根据要求，题目要注重基础知识的考查，并且将基础知识与综合运用能力的比例定为3:2。这意味着我会设计3个基础题和2个综合题。同时，不能所有题目都是完全编程题，其中至少有一个题目需要学生阅读理解代码，培养他们的分析能力。\n",
       "\n",
       "接下来，我考虑每个题目的类型和内容：\n",
       "\n",
       "1. 基础知识题：变量命名规则的判断。这类题目可以帮助学生巩固变量命名的基本规范。\n",
       "2. 数据类型的识别：通过给出变量赋值语句，让学生判断数据类型，加深他们对不同类型的理解。\n",
       "3. 循环结构的改写：将for循环转换为while循环，或者反之，考察学生对不同循环结构的应用能力。\n",
       "4. 函数综合题：设计一个函数，计算指定范围内的数位和。这道题涉及循环、条件判断和函数定义，属于综合运用。\n",
       "5. 阅读理解代码：给出一段生成斐波那契数列的代码，让学生分析输出结果并补充完整代码，培养他们的逻辑分析能力和代码阅读技巧。\n",
       "\n",
       "在设计每个题目时，我会注意生成相应的解题注意事项指导，帮助学生明确解题思路和步骤。例如，在判断变量命名是否正确时，需要提醒他们检查首字符、特殊符号的使用等规则。\n",
       "\n",
       "最后，我按照要求用Markdown格式整理这些题目，并确保每个部分清晰明了，方便学生理解和作答。\n",
       "</think>\n",
       "\n",
       "```markdown\n",
       "# Python编程测试题\n",
       "\n",
       "## 题目一：变量命名规则判断\n",
       "\n",
       "**题目描述：**\n",
       "以下给出了一些变量名，请判断哪些是合法的Python变量名。将正确的变量名写出来。\n",
       "\n",
       "变量名列表：\n",
       "- `variable1`\n",
       "- `2nd_variable` \n",
       "- `_private_var`\n",
       "- `my-variable`\n",
       "\n",
       "**解题注意事项：**\n",
       "1. Python变量命名规则包括：\n",
       "   - 变量名只能包含字母、数字和下划线。\n",
       "   - 变量名必须以字母或下划线开头，不能以数字开头。\n",
       "2. 逐个分析每个变量名是否符合上述规则。\n",
       "\n",
       "---\n",
       "\n",
       "## 题目二：数据类型识别\n",
       "\n",
       "**题目描述：**\n",
       "以下代码定义了一些变量，请写出每个变量的数据类型。\n",
       "\n",
       "```python\n",
       "a = 42\n",
       "b = \"Hello, World!\"\n",
       "c = [1, 2, 3]\n",
       "d = {\"name\": \"Alice\", \"age\": 30}\n",
       "```\n",
       "\n",
       "**解题注意事项：**\n",
       "1. 熟悉Python中的基本数据类型：\n",
       "   - 整数、字符串、列表、字典等。\n",
       "2. 根据变量赋值的内容判断其类型。\n",
       "\n",
       "---\n",
       "\n",
       "## 题目三：循环结构改写\n",
       "\n",
       "**题目描述：**\n",
       "将以下`for`循环改写为`while`循环：\n",
       "\n",
       "```python\n",
       "numbers = [1, 2, 3, 4, 5]\n",
       "sum_num = 0\n",
       "for num in numbers:\n",
       "    sum_num += num\n",
       "print(sum_num)\n",
       "```\n",
       "\n",
       "**解题注意事项：**\n",
       "1. `while`循环的基本结构是：\n",
       "   ```python\n",
       "   while condition:\n",
       "       # code block\n",
       "   ```\n",
       "2. 需要初始化一个索引变量，并在循环中逐步增加索引，直到超过列表长度。\n",
       "\n",
       "---\n",
       "\n",
       "## 题目四：函数综合运用\n",
       "\n",
       "**题目描述：**\n",
       "定义一个函数`calculate_digit_sum(n)`，计算从1到n（包括n）的所有整数的数字之和。例如：\n",
       "- 如果n=3，则sum = 1 + 2 + 3 =6\n",
       "- 如果n=10，则sum = (1+2+...+9) +1 =46\n",
       "\n",
       "**解题注意事项：**\n",
       "1. 函数定义格式：\n",
       "   ```python\n",
       "   def calculate_digit_sum(n):\n",
       "       # code block\n",
       "   ```\n",
       "2. 需要遍历从1到n的所有整数，计算每个数字的各个位数之和，最后将这些和累加起来。\n",
       "3. 可以先拆分每个数字为单个字符，再转换回整数求和。\n",
       "\n",
       "---\n",
       "\n",
       "## 题目五：代码阅读理解\n",
       "\n",
       "**题目描述：**\n",
       "以下是一个Python函数，该函数用于生成斐波那契数列。请仔细阅读代码，并回答问题：\n",
       "\n",
       "```python\n",
       "def generate_fibonacci(n):\n",
       "    fib = []\n",
       "    a, b = 0, 1\n",
       "    while len(fib) < n:\n",
       "        fib.append(b)\n",
       "        a, b = b, a + b\n",
       "    return fib\n",
       "\n",
       "print(generate_fibonacci(5))\n",
       "```\n",
       "\n",
       "问题：\n",
       "1. 这段代码的输出是什么？\n",
       "2. 如果调用`generate_fibonacci(0)`，会发生什么？如何修改函数使其能够处理n=0的情况？\n",
       "\n",
       "**解题注意事项：**\n",
       "1. 分析函数中的变量变化：\n",
       "   - `a`和`b`初始化为0和1。\n",
       "   - 每次循环将`b`添加到列表中，并更新`a`和`b`的值。\n",
       "2. 理解斐波那契数列的生成规律，分析不同n值时函数的行为。\n",
       "\n",
       "---\n",
       "\n",
       "以上是本次测试的所有题目，请仔细思考并解答。祝你考试顺利！\n",
       "```"
      ],
      "text/plain": [
       "<IPython.core.display.Markdown object>"
      ]
     },
     "execution_count": 6,
     "metadata": {
      "text/markdown": {
       "jupyter_ai": {
        "model_id": "deepseek-r1:32b",
        "provider_id": "ollama"
       }
      }
     },
     "output_type": "execute_result"
    }
   ],
   "source": [
    "%%ai\n",
    "作为一位编程教师，请你为一个初步掌握了Python编程基础知识的学生来设计5个编程测试题，学生目前已经接触的知识包括：\n",
    "1. 了解变量的命名方式\n",
    "2. 了解了基本的变量类型，如数值型、列表、字典等\n",
    "3. 了解了基本流程控制语句，如各类循环，`for`, `while`等\n",
    "4. 了解了函数的基本定义和初级使用方法\n",
    "命题的要求如下：\n",
    "1. 要注重基本知识的考查\n",
    "2. 基本知识的题目和综合运用能力题目的比例为3:2\n",
    "3. 不要全部都为完全编程题目，可以在某个题目中留下代码任务，让学生去完成，培养其阅读和理解代码的能力\n",
    "4. 每个题目要注意同时生成一份解题注意事项指导，对不同类型的问题应该怎么去解答给出一定的提示，以及规则\n",
    "5. 如果有代码填空这类问题，要明确留白的位置"
   ]
  },
  {
   "cell_type": "markdown",
   "metadata": {},
   "source": [
    "# ----Question 1----\n",
    "### 编写一个程序，计算列表中所有偶数的和，并输出结果。例如输入列表 [3, 8, 2, 5, 12]，输出 22"
   ]
  },
  {
   "cell_type": "code",
   "execution_count": 32,
   "metadata": {},
   "outputs": [
    {
     "name": "stdout",
     "output_type": "stream",
     "text": [
      "0\n",
      "4\n",
      "16\n",
      "22\n",
      "30\n",
      "**************************************************\n",
      "72\n"
     ]
    }
   ],
   "source": [
    "# ----Answer----\n",
    "s = 0\n",
    "num_list = [0, 1, 3, 4, 7, 16, 22, 29, 30]\n",
    "for number in num_list:\n",
    "    if number % 2 == 0:\n",
    "        s = s + number\n",
    "        print(number)\n",
    "\n",
    "print(\"*\"*50)\n",
    "print(s)\n"
   ]
  },
  {
   "cell_type": "markdown",
   "metadata": {},
   "source": [
    "# ----Question 2----\n",
    "### 编写一个程序，计算列表中所有偶数的和，并输出结果。例如输入列表 [3, 8, 2, 5, 12]，输出 22\n",
    "提示：有一个运算叫做 % ，求模运算，可以借助它的用法，来解决问题"
   ]
  },
  {
   "cell_type": "code",
   "execution_count": 18,
   "metadata": {},
   "outputs": [
    {
     "name": "stdout",
     "output_type": "stream",
     "text": [
      "72\n"
     ]
    }
   ],
   "source": [
    "# ---- Answer ----\n",
    "num_list = [0, 1, 3, 4, 7, 16, 22, 29, 30]\n",
    "sum_even = sum(x for x in num_list if x % 2 == 0)\n",
    "print(sum_even)  "
   ]
  },
  {
   "cell_type": "code",
   "execution_count": 27,
   "metadata": {},
   "outputs": [
    {
     "name": "stdout",
     "output_type": "stream",
     "text": [
      "0\n",
      "0\n",
      "0\n",
      "2\n",
      "1\n",
      "0\n",
      "6\n"
     ]
    }
   ],
   "source": [
    "a = 6 % 12\n",
    "for i in range(7):\n",
    "    print(6%(i+1))"
   ]
  },
  {
   "cell_type": "markdown",
   "metadata": {},
   "source": [
    "# ----Question 3----\n",
    "综合应用：学生成绩管理系统（综合题）\n",
    "任务：设计一个程序，允许用户输入多个学生的姓名和成绩（0-100），存储为字典列表，并实现以下功能：\n",
    "- 输入 stop 结束输入。\n",
    "- 输出所有成绩大于等于60的学生姓名和成绩。\n",
    "- 计算全班平均分。\n",
    "```\n",
    "输入姓名: Alice\n",
    "输入成绩: 75\n",
    "输入姓名: Bob\n",
    "输入成绩: 58\n",
    "输入姓名: stop\n",
    "[输出]\n",
    "及格学生：\n",
    "Alice - 75\n",
    "平均分：66.5\n",
    "```"
   ]
  },
  {
   "cell_type": "code",
   "execution_count": 19,
   "metadata": {},
   "outputs": [
    {
     "name": "stdin",
     "output_type": "stream",
     "text": [
      "输入姓名（输入'stop'结束）： alice\n",
      "输入成绩（0-100）： 75\n",
      "输入姓名（输入'stop'结束）： stop\n"
     ]
    },
    {
     "name": "stdout",
     "output_type": "stream",
     "text": [
      "及格学生：\n",
      "alice - 75.0\n",
      "平均分：75.0\n"
     ]
    }
   ],
   "source": [
    "# ---- Answer ----\n",
    "def main():\n",
    "    students = []\n",
    "    while True:\n",
    "        name = input(\"输入姓名（输入'stop'结束）：\")\n",
    "        if name.lower() == 'stop':\n",
    "            break\n",
    "        try:\n",
    "            score = float(input(\"输入成绩（0-100）：\"))\n",
    "            if 0 <= score <= 100:\n",
    "                students.append({\"name\": name, \"score\": score})\n",
    "            else:\n",
    "                print(\"成绩必须在0到100之间，请重新输入。\")\n",
    "        except ValueError:\n",
    "            print(\"请输入有效的成绩。\")\n",
    "\n",
    "    # 输出所有成绩大于等于60的学生姓名和成绩\n",
    "    print(\"及格学生：\")\n",
    "    qualified_students = [student for student in students if student[\"score\"] >= 60]\n",
    "    for student in qualified_students:\n",
    "        print(f\"{student['name']} - {student['score']}\")\n",
    "\n",
    "    # 计算全班平均分\n",
    "    if students:\n",
    "        average_score = sum(student[\"score\"] for student in students) / len(students)\n",
    "        print(f\"平均分：{average_score:.1f}\")\n",
    "    else:\n",
    "        print(\"没有输入任何学生成绩。\")\n",
    "\n",
    "if __name__ == \"__main__\":\n",
    "    main()"
   ]
  },
  {
   "cell_type": "markdown",
   "metadata": {},
   "source": [
    "# ----Question 4----\n",
    "### 阅读下面的代码，找出存在的问题，并改正它"
   ]
  },
  {
   "cell_type": "code",
   "execution_count": null,
   "metadata": {},
   "outputs": [],
   "source": [
    "def find_max(numbers):\n",
    "    max_num = 0\n",
    "    for num in numbers:\n",
    "        if num > max_num:\n",
    "            max_num = num\n",
    "    return max_num\n",
    "\n",
    "# 你可以测试它：find_max([-5, -3, -1])\n",
    "# 输入 [-5, -3, -1]，预期输出 -1，实际输出 0"
   ]
  },
  {
   "cell_type": "code",
   "execution_count": 20,
   "metadata": {},
   "outputs": [
    {
     "ename": "NameError",
     "evalue": "name 'find_max' is not defined",
     "output_type": "error",
     "traceback": [
      "\u001b[0;31m---------------------------------------------------------------------------\u001b[0m",
      "\u001b[0;31mNameError\u001b[0m                                 Traceback (most recent call last)",
      "Cell \u001b[0;32mIn[20], line 2\u001b[0m\n\u001b[1;32m      1\u001b[0m \u001b[38;5;66;03m# ---- Answer ----\u001b[39;00m\n\u001b[0;32m----> 2\u001b[0m \u001b[43mfind_max\u001b[49m([\u001b[38;5;241m-\u001b[39m\u001b[38;5;241m5\u001b[39m, \u001b[38;5;241m-\u001b[39m\u001b[38;5;241m3\u001b[39m,\u001b[38;5;241m-\u001b[39m\u001b[38;5;241m1\u001b[39m])\n",
      "\u001b[0;31mNameError\u001b[0m: name 'find_max' is not defined"
     ]
    }
   ],
   "source": [
    "# ---- Answer ----\n",
    "find_max([-5, -3,-1])"
   ]
  },
  {
   "cell_type": "code",
   "execution_count": null,
   "metadata": {},
   "outputs": [],
   "source": []
  }
 ],
 "metadata": {
  "kernelspec": {
   "display_name": "Python 3 (ipykernel)",
   "language": "python",
   "name": "python3"
  },
  "language_info": {
   "codemirror_mode": {
    "name": "ipython",
    "version": 3
   },
   "file_extension": ".py",
   "mimetype": "text/x-python",
   "name": "python",
   "nbconvert_exporter": "python",
   "pygments_lexer": "ipython3",
   "version": "3.10.15"
  }
 },
 "nbformat": 4,
 "nbformat_minor": 4
}

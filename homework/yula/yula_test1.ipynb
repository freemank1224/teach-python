{
 "cells": [
  {
   "cell_type": "code",
   "execution_count": 1,
   "metadata": {},
   "outputs": [],
   "source": [
    "%reload_ext jupyter_ai_magics\n",
    "%config AiMagics.default_language_model = 'ollama:phi4'"
   ]
  },
  {
   "cell_type": "code",
   "execution_count": 22,
   "metadata": {},
   "outputs": [
    {
     "data": {
      "text/markdown": [
       "Cannot determine model provider from model ID `qwq`.\n",
       "\n",
       "To see a list of models you can use, run `%ai list`\n",
       "\n",
       "If you were trying to run a command, run `%ai help` to see a list of commands."
      ],
      "text/plain": [
       "Cannot determine model provider from model ID 'qwq'.\n",
       "\n",
       "To see a list of models you can use, run '%ai list'\n",
       "\n",
       "If you were trying to run a command, run '%ai help' to see a list of commands."
      ]
     },
     "execution_count": 22,
     "metadata": {},
     "output_type": "execute_result"
    }
   ],
   "source": [
    "%%ai\n",
    "作为一位编程教师，请你为一个初步掌握了Python编程基础知识的学生来设计5个编程测试题，学生目前已经接触的知识包括：\n",
    "1. 了解变量的命名方式\n",
    "2. 了解了基本的变量类型，如数值型、列表、字典等\n",
    "3. 了解了基本流程控制语句，如各类循环，`for`, `while`等\n",
    "4. 了解了函数的基本定义和初级使用方法\n",
    "命题的要求如下：\n",
    "1. 要注重基本知识的考查\n",
    "2. 基本知识的题目和综合运用能力题目的比例为3:2\n",
    "3. 不要全部都为完全编程题目，可以在某个题目中留下代码任务，让学生去完成，培养其阅读和理解代码的能力\n",
    "4. 每个题目要注意同时生成一份解题注意事项指导，对不同类型的问题应该怎么去解答给出一定的提示，以及规则\n",
    "5. 如果有代码填空这类问题，要明确留白的位置"
   ]
  },
  {
   "cell_type": "code",
   "execution_count": 25,
   "metadata": {},
   "outputs": [
    {
     "data": {
      "text/markdown": [
       "Cannot determine model provider from model ID `qwq`.\n",
       "\n",
       "To see a list of models you can use, run `%ai list`\n",
       "\n",
       "If you were trying to run a command, run `%ai help` to see a list of commands."
      ],
      "text/plain": [
       "Cannot determine model provider from model ID 'qwq'.\n",
       "\n",
       "To see a list of models you can use, run '%ai list'\n",
       "\n",
       "If you were trying to run a command, run '%ai help' to see a list of commands."
      ]
     },
     "execution_count": 25,
     "metadata": {},
     "output_type": "execute_result"
    }
   ],
   "source": [
    "%%ai qwq -f markdown\n",
    "hello"
   ]
  },
  {
   "cell_type": "markdown",
   "metadata": {},
   "source": [
    "# ----Question 1----\n",
    "### 编写一个程序，计算列表中所有偶数的和，并输出结果。例如输入列表 [3, 8, 2, 5, 12]，输出 22"
   ]
  },
  {
   "cell_type": "code",
   "execution_count": 32,
   "metadata": {},
   "outputs": [
    {
     "name": "stdout",
     "output_type": "stream",
     "text": [
      "0\n",
      "4\n",
      "16\n",
      "22\n",
      "30\n",
      "**************************************************\n",
      "72\n"
     ]
    }
   ],
   "source": [
    "# ----Answer----\n",
    "s = 0\n",
    "num_list = [0, 1, 3, 4, 7, 16, 22, 29, 30]\n",
    "for number in num_list:\n",
    "    if number % 2 == 0:\n",
    "        s = s + number\n",
    "        print(number)\n",
    "\n",
    "print(\"*\"*50)\n",
    "print(s)\n"
   ]
  },
  {
   "cell_type": "markdown",
   "metadata": {},
   "source": [
    "# ----Question 2----\n",
    "### 编写一个程序，计算列表中所有偶数的和，并输出结果。例如输入列表 [3, 8, 2, 5, 12]，输出 22\n",
    "提示：有一个运算叫做 % ，求模运算，可以借助它的用法，来解决问题"
   ]
  },
  {
   "cell_type": "code",
   "execution_count": 18,
   "metadata": {},
   "outputs": [
    {
     "name": "stdout",
     "output_type": "stream",
     "text": [
      "72\n"
     ]
    }
   ],
   "source": [
    "# ---- Answer ----\n",
    "num_list = [0, 1, 3, 4, 7, 16, 22, 29, 30]\n",
    "sum_even = sum(x for x in num_list if x % 2 == 0)\n",
    "print(sum_even)  "
   ]
  },
  {
   "cell_type": "code",
   "execution_count": 27,
   "metadata": {},
   "outputs": [
    {
     "name": "stdout",
     "output_type": "stream",
     "text": [
      "0\n",
      "0\n",
      "0\n",
      "2\n",
      "1\n",
      "0\n",
      "6\n"
     ]
    }
   ],
   "source": [
    "a = 6 % 12\n",
    "for i in range(7):\n",
    "    print(6%(i+1))"
   ]
  },
  {
   "cell_type": "markdown",
   "metadata": {},
   "source": [
    "# ----Question 3----\n",
    "综合应用：学生成绩管理系统（综合题）\n",
    "任务：设计一个程序，允许用户输入多个学生的姓名和成绩（0-100），存储为字典列表，并实现以下功能：\n",
    "- 输入 stop 结束输入。\n",
    "- 输出所有成绩大于等于60的学生姓名和成绩。\n",
    "- 计算全班平均分。\n",
    "```\n",
    "输入姓名: Alice\n",
    "输入成绩: 75\n",
    "输入姓名: Bob\n",
    "输入成绩: 58\n",
    "输入姓名: stop\n",
    "[输出]\n",
    "及格学生：\n",
    "Alice - 75\n",
    "平均分：66.5\n",
    "```"
   ]
  },
  {
   "cell_type": "code",
   "execution_count": 19,
   "metadata": {},
   "outputs": [
    {
     "name": "stdin",
     "output_type": "stream",
     "text": [
      "输入姓名（输入'stop'结束）： alice\n",
      "输入成绩（0-100）： 75\n",
      "输入姓名（输入'stop'结束）： stop\n"
     ]
    },
    {
     "name": "stdout",
     "output_type": "stream",
     "text": [
      "及格学生：\n",
      "alice - 75.0\n",
      "平均分：75.0\n"
     ]
    }
   ],
   "source": [
    "# ---- Answer ----\n",
    "def main():\n",
    "    students = []\n",
    "    while True:\n",
    "        name = input(\"输入姓名（输入'stop'结束）：\")\n",
    "        if name.lower() == 'stop':\n",
    "            break\n",
    "        try:\n",
    "            score = float(input(\"输入成绩（0-100）：\"))\n",
    "            if 0 <= score <= 100:\n",
    "                students.append({\"name\": name, \"score\": score})\n",
    "            else:\n",
    "                print(\"成绩必须在0到100之间，请重新输入。\")\n",
    "        except ValueError:\n",
    "            print(\"请输入有效的成绩。\")\n",
    "\n",
    "    # 输出所有成绩大于等于60的学生姓名和成绩\n",
    "    print(\"及格学生：\")\n",
    "    qualified_students = [student for student in students if student[\"score\"] >= 60]\n",
    "    for student in qualified_students:\n",
    "        print(f\"{student['name']} - {student['score']}\")\n",
    "\n",
    "    # 计算全班平均分\n",
    "    if students:\n",
    "        average_score = sum(student[\"score\"] for student in students) / len(students)\n",
    "        print(f\"平均分：{average_score:.1f}\")\n",
    "    else:\n",
    "        print(\"没有输入任何学生成绩。\")\n",
    "\n",
    "if __name__ == \"__main__\":\n",
    "    main()"
   ]
  },
  {
   "cell_type": "markdown",
   "metadata": {},
   "source": [
    "# ----Question 4----\n",
    "### 阅读下面的代码，找出存在的问题，并改正它"
   ]
  },
  {
   "cell_type": "code",
   "execution_count": null,
   "metadata": {},
   "outputs": [],
   "source": [
    "def find_max(numbers):\n",
    "    max_num = 0\n",
    "    for num in numbers:\n",
    "        if num > max_num:\n",
    "            max_num = num\n",
    "    return max_num\n",
    "\n",
    "# 你可以测试它：find_max([-5, -3, -1])\n",
    "# 输入 [-5, -3, -1]，预期输出 -1，实际输出 0"
   ]
  },
  {
   "cell_type": "code",
   "execution_count": 20,
   "metadata": {},
   "outputs": [
    {
     "ename": "NameError",
     "evalue": "name 'find_max' is not defined",
     "output_type": "error",
     "traceback": [
      "\u001b[0;31m---------------------------------------------------------------------------\u001b[0m",
      "\u001b[0;31mNameError\u001b[0m                                 Traceback (most recent call last)",
      "Cell \u001b[0;32mIn[20], line 2\u001b[0m\n\u001b[1;32m      1\u001b[0m \u001b[38;5;66;03m# ---- Answer ----\u001b[39;00m\n\u001b[0;32m----> 2\u001b[0m \u001b[43mfind_max\u001b[49m([\u001b[38;5;241m-\u001b[39m\u001b[38;5;241m5\u001b[39m, \u001b[38;5;241m-\u001b[39m\u001b[38;5;241m3\u001b[39m,\u001b[38;5;241m-\u001b[39m\u001b[38;5;241m1\u001b[39m])\n",
      "\u001b[0;31mNameError\u001b[0m: name 'find_max' is not defined"
     ]
    }
   ],
   "source": [
    "# ---- Answer ----\n",
    "find_max([-5, -3,-1])"
   ]
  },
  {
   "cell_type": "code",
   "execution_count": null,
   "metadata": {},
   "outputs": [],
   "source": []
  }
 ],
 "metadata": {
  "kernelspec": {
   "display_name": "Python 3 (ipykernel)",
   "language": "python",
   "name": "python3"
  },
  "language_info": {
   "codemirror_mode": {
    "name": "ipython",
    "version": 3
   },
   "file_extension": ".py",
   "mimetype": "text/x-python",
   "name": "python",
   "nbconvert_exporter": "python",
   "pygments_lexer": "ipython3",
   "version": "3.10.15"
  }
 },
 "nbformat": 4,
 "nbformat_minor": 4
}

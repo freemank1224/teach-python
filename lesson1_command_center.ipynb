{
 "cells": [
  {
   "cell_type": "markdown",
   "metadata": {},
   "source": [
    "# 第一环节：太空指挥中心初体验\n",
    "\n",
    "欢迎来到太空指挥中心！在这个环节中，你将开始你的Python编程之旅。作为一名新晋太空学员，你需要学习如何使用Python来操作发射控制台。\n",
    "\n",
    "## 学习目标\n",
    "- 理解Python与图形化编程的区别\n",
    "- 掌握Python基本语法（变量、数据类型、print函数）\n",
    "- 学会使用Python交互式环境\n",
    "\n",
    "## 1. Python基础知识\n",
    "### 1.1 认识Python\n",
    "Python是一种强大的编程语言，不同于Scratch的图形化编程，Python使用文本来编写程序。但是不用担心，你会发现Python的语法非常直观和易于理解！"
   ]
  },
  {
   "cell_type": "markdown",
   "metadata": {},
   "source": [
    "### 1.2 第一个Python命令\n",
    "让我们从最简单的开始 - 使用`print`函数向控制台发送消息："
   ]
  },
  {
   "cell_type": "code",
   "execution_count": null,
   "metadata": {},
   "source": [
    "print(\"欢迎来到太空指挥中心！\")"
   ]
  },
  {
   "cell_type": "markdown",
   "metadata": {},
   "source": [
    "### 1.3 变量和数据类型\n",
    "在太空任务中，我们需要存储各种信息，比如航天员的名字、飞行时间等。在Python中，我们使用变量来存储这些信息："
   ]
  },
  {
   "cell_type": "code",
   "execution_count": null,
   "metadata": {},
   "source": [
    "# 存储航天员信息\n",
    "astronaut_name = \"小明\"  # 字符串类型\n",
    "age = 12  # 整数类型\n",
    "height = 1.45  # 浮点数类型\n",
    "is_ready = True  # 布尔类型\n",
    "\n",
    "# 打印航天员信息\n",
    "print(\"航天员姓名：\", astronaut_name)\n",
    "print(\"年龄：\", age, \"岁\")\n",
    "print(\"身高：\", height, \"米\")\n",
    "print(\"准备就绪：\", is_ready)"
   ]
  },
  {
   "cell_type": "markdown",
   "metadata": {},
   "source": [
    "## 2. 互动任务：发射控制台模拟\n",
    "现在，让我们来完成一个真实的太空任务！我们需要设置发射参数并进行倒计时。"
   ]
  },
  {
   "cell_type": "code",
   "execution_count": null,
   "metadata": {},
   "source": [
    "# 设置发射参数\n",
    "mission_name = \"探索者一号\"\n",
    "launch_time = \"2024-03-15 10:00\"\n",
    "fuel_level = 100\n",
    "\n",
    "# 显示发射信息\n",
    "print(\"=== 发射任务信息 ===\")\n",
    "print(\"任务名称：\", mission_name)\n",
    "print(\"发射时间：\", launch_time)\n",
    "print(\"燃料水平：\", fuel_level, \"%\")"
   ]
  },
  {
   "cell_type": "markdown",
   "metadata": {},
   "source": [
    "### 2.1 发射倒计时\n",
    "让我们使用Python的基本运算来进行发射倒计时："
   ]
  },
  {
   "cell_type": "code",
   "execution_count": null,
   "metadata": {},
   "source": [
    "# 倒计时计算\n",
    "countdown_start = 10\n",
    "\n",
    "print(\"倒计时开始！\")\n",
    "print(countdown_start)\n",
    "print(countdown_start - 2)\n",
    "print(countdown_start - 4)\n",
    "print(countdown_start - 6)\n",
    "print(countdown_start - 8)\n",
    "print(\"发射！\")"
   ]
  },
  {
   "cell_type": "markdown",
   "metadata": {},
   "source": [
    "## 3. 练习任务\n",
    "现在轮到你来操作发射控制台了！完成以下任务：\n",
    "\n",
    "1. 创建自己的航天员信息\n",
    "2. 设置一个新的发射任务\n",
    "3. 进行发射倒计时（尝试使用不同的起始数字）\n",
    "\n",
    "在下面的代码块中编写你的代码："
   ]
  },
  {
   "cell_type": "code",
   "execution_count": null,
   "metadata": {},
   "source": [
    "# 在这里编写你的代码\n",
    "# 1. 创建航天员信息\n",
    "\n",
    "# 2. 设置发射任务\n",
    "\n",
    "# 3. 进行倒计时\n"
   ]
  },
  {
   "cell_type": "markdown",
   "metadata": {},
   "source": [
    "## 4. 小测验\n",
    "1. Python中的哪些数据类型我们今天学习了？\n",
    "2. 如何使用print函数打印多个值？\n",
    "3. 变量名可以包含空格吗？\n",
    "\n",
    "## 下一步\n",
    "恭喜你完成了第一个环节！你已经掌握了Python的基础知识，并成功操作了发射控制台。在下一个环节中，我们将学习如何使用条件语句和循环来控制航天器的飞行路线。准备好继续探索了吗？"
   ]
  }
 ],
 "metadata": {
  "kernelspec": {
   "display_name": "Python 3",
   "language": "python",
   "name": "python3"
  },
  "language_info": {
   "codemirror_mode": {
    "name": "ipython",
    "version": 3
   },
   "file_extension": ".py",
   "mimetype": "text/x-python",
   "name": "python",
   "nbconvert_exporter": "python",
   "pygments_lexer": "ipython3",
   "version": "3.10.0"
  }
 }
}
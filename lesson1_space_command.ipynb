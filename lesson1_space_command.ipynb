{
 "cells": [
  {
   "cell_type": "markdown",
   "metadata": {},
   "source": [
    "# 第一环节：太空指挥中心初体验\n",
    "\n",
    "欢迎来到太空指挥中心！在这个环节中，你将学习如何使用Python命令来操作发射控制台，开启你的太空探索之旅。\n",
    "\n",
    "## 学习目标\n",
    "- 理解Python与图形化编程的区别\n",
    "- 掌握Python基本语法（变量、数据类型、print函数）\n",
    "- 学会使用Python交互式环境\n",
    "\n",
    "## 1. Python基础语法\n",
    "### 1.1 变量和数据类型\n",
    "在太空任务中，我们需要记录很多信息，比如航天员的姓名、年龄、体重等。在Python中，我们使用变量来存储这些信息："
   ]
  },
  {
   "cell_type": "code",
   "execution_count": null,
   "metadata": {},
   "source": [
    "# 存储航天员信息\n",
    "astronaut_name = '张三'  # 字符串类型\n",
    "age = 28               # 整数类型\n",
    "weight = 65.5         # 浮点数类型\n",
    "is_ready = True       # 布尔类型\n",
    "\n",
    "# 查看变量的数据类型\n",
    "print(f'姓名类型：{type(astronaut_name)}')\n",
    "print(f'年龄类型：{type(age)}')\n",
    "print(f'体重类型：{type(weight)}')\n",
    "print(f'准备状态类型：{type(is_ready)}')"
   ]
  },
  {
   "cell_type": "markdown",
   "metadata": {},
   "source": [
    "### 1.2 变量的使用\n",
    "我们可以对变量进行各种操作，比如数学计算或字符串拼接："
   ]
  },
  {
   "cell_type": "code",
   "execution_count": null,
   "metadata": {},
   "source": [
    "# 数学运算\n",
    "fuel_capacity = 1000    # 燃料容量（升）\n",
    "fuel_used = 300        # 已使用燃料（升）\n",
    "fuel_remaining = fuel_capacity - fuel_used\n",
    "\n",
    "# 字符串拼接\n",
    "mission_name = '探索者'\n",
    "mission_number = 1\n",
    "full_mission_name = mission_name + str(mission_number)\n",
    "\n",
    "print(f'剩余燃料：{fuel_remaining}升')\n",
    "print(f'任务代号：{full_mission_name}')"
   ]
  },
  {
   "cell_type": "markdown",
   "metadata": {},
   "source": [
    "## 2. print函数\n",
    "在发射控制台中，我们需要向航天员发送各种指令和信息。Python的print函数就是我们的通讯工具："
   ]
  },
  {
   "cell_type": "code",
   "execution_count": null,
   "metadata": {},
   "source": [
    "# 基本打印\n",
    "print('发射控制系统已启动')\n",
    "\n",
    "# 格式化打印\n",
    "launch_time = '10:30'\n",
    "weather = '晴朗'\n",
    "print(f'发射时间：{launch_time}')\n",
    "print(f'天气状况：{weather}')\n",
    "\n",
    "# 多行打印\n",
    "print('''\n",
    "系统状态检查：\n",
    "1. 燃料系统 - 正常\n",
    "2. 导航系统 - 正常\n",
    "3. 生命支持 - 正常\n",
    "''')"
   ]
  },
  {
   "cell_type": "markdown",
   "metadata": {},
   "source": [
    "## 3. 互动任务：发射控制台模拟\n",
    "现在，让我们来模拟一次火箭发射的准备过程！"
   ]
  },
  {
   "cell_type": "code",
   "execution_count": null,
   "metadata": {},
   "source": [
    "# 发射控制台模拟系统\n",
    "# 设置航天员信息\n",
    "commander_name = '王舰长'\n",
    "mission_time = '2024-01-01 08:00'\n",
    "rocket_type = '长征5号'\n",
    "\n",
    "# 打印任务信息\n",
    "print('='*50)\n",
    "print('太空任务控制系统')\n",
    "print('='*50)\n",
    "print(f'指挥官：{commander_name}')\n",
    "print(f'发射时间：{mission_time}')\n",
    "print(f'火箭型号：{rocket_type}')\n",
    "print('='*50)\n",
    "\n",
    "# 倒计时模拟\n",
    "countdown = 10\n",
    "while countdown > 0:\n",
    "    print(f'倒计时：{countdown}')\n",
    "    countdown -= 1\n",
    "\n",
    "print('\n点火！火箭发射！')"
   ]
  },
  {
   "cell_type": "markdown",
   "metadata": {},
   "source": [
    "## 4. 练习任务\n",
    "现在轮到你来操作发射控制台！完成以下任务：\n",
    "\n",
    "1. 创建航天员档案\n",
    "   - 定义至少4个不同类型的变量来存储航天员信息\n",
    "   - 使用print函数显示所有信息\n",
    "   - 计算并显示一些基本数据（如训练时长、任务天数等）\n",
    "\n",
    "2. 设计发射报告\n",
    "   - 创建发射相关的变量（如发射地点、目的地、预计用时等）\n",
    "   - 使用格式化字符串生成完整的发射报告\n",
    "   - 确保报告格式美观整齐\n",
    "\n",
    "3. 实现发射倒计时\n",
    "   - 设置初始倒计时时间\n",
    "   - 显示倒计时过程\n",
    "   - 在倒计时结束后显示发射确认信息\n",
    "\n",
    "提示：\n",
    "- 使用合适的变量名来存储不同类型的数据\n",
    "- 注意print函数的格式化方法\n",
    "- 添加注释来解释代码的功能\n",
    "\n",
    "在下面的代码块中编写你的代码："
   ]
  },
  {
   "cell_type": "code",
   "execution_count": null,
   "metadata": {},
   "source": [
    "# 在这里编写你的代码\n",
    "# 1. 航天员档案\n",
    "\n",
    "# 2. 发射报告\n",
    "\n",
    "# 3. 发射倒计时\n"
   ]
  },
  {
   "cell_type": "code",
   "execution_count": null,
   "metadata": {},
   "source": [
    "# 运行这个代码块来检查你的答案\n",
    "def check_astronaut_profile(locals_dict):\n",
    "    # 检查变量类型和数量\n",
    "    var_types = set()\n",
    "    astronaut_vars = 0\n",
    "    \n",
    "    for var_name, value in locals_dict.items():\n",
    "        if not var_name.startswith('__'):\n",
    "            var_types.add(type(value))\n",
    "            astronaut_vars += 1\n",
    "    \n",
    "    if astronaut_vars < 4:\n",
    "        print('❌ 错误：航天员档案需要至少4个不同的信息')\n",
    "        return False\n",
    "    \n",
    "    if len(var_types) < 3:\n",
    "        print('❌ 错误：需要使用至少3种不同的数据类型')\n",
    "        return False\n",
    "    \n",
    "    print('✅ 航天员档案创建正确！')\n",
    "    return True\n",
    "\n",
    "def check_launch_report(locals_dict):\n",
    "    # 检查是否使用了f-string和合适的格式化\n",
    "    import inspect\n",
    "    code = inspect.getsource(inspect.currentframe().f_back)\n",
    "    \n",
    "    if 'f\\'' not in code and 'f\\"' not in code:\n",
    "        print('❌ 错误：发射报告需要使用格式化字符串')\n",
    "        return False\n",
    "    \n",
    "    # 检查报告内容\n",
    "    required_info = ['地点', '时间', '目的地']\n",
    "    if not all(info in code.lower() for info in required_info):\n",
    "        print('❌ 错误：发射报告缺少必要信息（发射地点、时间、目的地等）')\n",
    "        return False\n",
    "    \n",
    "    print('✅ 发射报告格式正确！')\n",
    "    return True\n",
    "\n",
    "def check_countdown(locals_dict):\n",
    "    # 检查倒计时实现\n",
    "    import inspect\n",
    "    code = inspect.getsource(inspect.currentframe().f_back)\n",
    "    \n",
    "    if 'while' not in code:\n",
    "        print('❌ 错误：倒计时需要使用循环结构')\n",
    "        return False\n",
    "    \n",
    "    if 'print' not in code:\n",
    "        print('❌ 错误：倒计时过程需要显示输出')\n",
    "        return False\n",
    "    \n",
    "    print('✅ 倒计时功能实现正确！')\n",
    "    return True\n",
    "\n",
    "# 运行检查\n",
    "print('正在检查你的代码...')\n",
    "check_astronaut_profile(locals())\n",
    "check_launch_report(locals())\n",
    "check_countdown(locals())"
   ]
  }
 ]
}
{
 "cells": [
  {
   "cell_type": "markdown",
   "metadata": {},
   "source": [
    "# 第二环节：星际航行控制\n",
    "\n",
    "欢迎来到第二次太空任务！在这个环节中，你将学习如何使用Python的条件语句和循环结构来控制航天器的飞行路线。\n",
    "\n",
    "## 学习目标\n",
    "- 掌握条件语句（if-else）\n",
    "- 理解循环结构（for, while）\n",
    "- 学习基本的用户输入处理\n",
    "\n",
    "## 1. 条件语句\n",
    "### 1.1 认识if-else语句\n",
    "在太空飞行中，我们经常需要根据不同的情况做出决策。比如，根据燃料量决定是否继续飞行："
   ]
  },
  {
   "cell_type": "code",
   "execution_count": null,
   "metadata": {},
   "source": [
    "# 检查燃料状态\n",
    "fuel_level = 30\n",
    "\n",
    "if fuel_level > 50:\n",
    "    print(\"燃料充足，可以继续飞行\")\n",
    "elif fuel_level > 20:\n",
    "    print(\"燃料不足，需要节约使用\")\n",
    "else:\n",
    "    print(\"警告：燃料严重不足，必须立即返航！\")"
   ]
  },
  {
   "cell_type": "markdown",
   "metadata": {},
   "source": [
    "### 1.2 多重条件判断\n",
    "在复杂的太空任务中，我们可能需要同时判断多个条件："
   ]
  },
  {
   "cell_type": "code",
   "execution_count": null,
   "metadata": {},
   "source": [
    "# 检查飞行条件\n",
    "weather_good = True\n",
    "systems_check = True\n",
    "crew_ready = True\n",
    "\n",
    "if weather_good and systems_check and crew_ready:\n",
    "    print(\"所有系统正常，可以起飞！\")\n",
    "else:\n",
    "    print(\"起飞条件不满足，请检查各项状态\")"
   ]
  },
  {
   "cell_type": "markdown",
   "metadata": {},
   "source": [
    "## 2. 循环结构\n",
    "### 2.1 使用while循环\n",
    "while循环可以帮助我们持续监控飞行状态："
   ]
  },
  {
   "cell_type": "code",
   "execution_count": null,
   "metadata": {},
   "source": [
    "# 飞行高度监控\n",
    "altitude = 0\n",
    "target_altitude = 100\n",
    "\n",
    "while altitude < target_altitude:\n",
    "    altitude += 10\n",
    "    print(f\"当前高度：{altitude}千米\")\n",
    "\n",
    "print(\"已达到目标高度！\")"
   ]
  },
  {
   "cell_type": "markdown",
   "metadata": {},
   "source": [
    "### 2.2 使用for循环\n",
    "for循环适合处理已知次数的重复任务："
   ]
  },
  {
   "cell_type": "code",
   "execution_count": null,
   "metadata": {},
   "source": [
    "# 系统检查清单\n",
    "check_items = [\"引擎\", \"导航系统\", \"生命支持\", \"通信系统\", \"燃料系统\"]\n",
    "\n",
    "for item in check_items:\n",
    "    print(f\"正在检查{item}...通过！\")"
   ]
  },
  {
   "cell_type": "markdown",
   "metadata": {},
   "source": [
    "## 3. 用户输入\n",
    "在实际任务中，我们需要接收地面控制中心的指令："
   ]
  },
  {
   "cell_type": "code",
   "execution_count": null,
   "metadata": {},
   "source": [
    "# 接收地面控制指令\n",
    "print(\"请输入飞行指令（1:加速, 2:减速, 3:保持当前速度）：\")\n",
    "command = input()\n",
    "\n",
    "if command == \"1\":\n",
    "    print(\"正在加速...\")\n",
    "elif command == \"2\":\n",
    "    print(\"正在减速...\")\n",
    "elif command == \"3\":\n",
    "    print(\"保持当前速度\")\n",
    "else:\n",
    "    print(\"无效指令！\")"
   ]
  },
  {
   "cell_type": "markdown",
   "metadata": {},
   "source": [
    "## 4. 互动任务：星际航线规划\n",
    "现在，让我们来完成一个完整的航线规划任务！"
   ]
  },
  {
   "cell_type": "code",
   "execution_count": null,
   "metadata": {},
   "source": [
    "# 航线规划系统\n",
    "destinations = [\"月球\", \"火星\", \"木星\", \"土星\"]\n",
    "\n",
    "print(\"可选目的地：\")\n",
    "for i, dest in enumerate(destinations, 1):\n",
    "    print(f\"{i}. {dest}\")\n",
    "\n",
    "print(\"\n请选择目的地编号：\")\n",
    "choice = input()\n",
    "\n",
    "if choice.isdigit() and 1 <= int(choice) <= len(destinations):\n",
    "    selected = destinations[int(choice)-1]\n",
    "    print(f\"正在规划前往{selected}的航线...\")\n",
    "    \n",
    "    # 模拟航行过程\n",
    "    distance = 0\n",
    "    while distance < 100:\n",
    "        distance += 20\n",
    "        print(f\"已航行：{distance}光年\")\n",
    "    \n",
    "    print(f\"已到达{selected}轨道！\")\n",
    "else:\n",
    "    print(\"无效的选择！\")"
   ]
  },
  {
   "cell_type": "markdown",
   "metadata": {},
   "source": [
    "## 5. 练习任务\n",
    "现在轮到你来设计一个航行控制系统！完成以下任务：\n",
    "\n",
    "1. 创建一个自动驾驶系统，根据不同的情况（如陨石带、燃料量）自动调整飞行路线\n",
    "2. 设计一个循环检测系统，持续监控飞船的各项状态\n",
    "3. 编写一个交互式的导航系统，接收用户输入并做出相应反应\n",
    "\n",
    "在下面的代码块中编写你的代码："
   ]
  },
  {
   "cell_type": "code",
   "execution_count": null,
   "metadata": {},
   "source": [
    "# 在这里编写你的代码\n",
    "# 1. 自动驾驶系统\n",
    "\n",
    "# 2. 循环检测系统\n",
    "\n",
    "# 3. 交互式导航系统\n"
   ]
  },
  {
   "cell_type": "markdown",
   "metadata": {},
   "source": [
    "## 6. 小测验\n",
    "1. if-else语句和elif有什么区别？\n",
    "2. while循环和for循环各自适用于什么场景？\n",
    "3. 如何处理用户输入的无效数据？\n",
    "\n",
    "## 下一步\n",
    "太棒了！你已经掌握了Python的条件语句和循环结构，并能够处理用户输入。在下一个环节中，我们将学习如何使用函数来组织代码，以及如何使用列表和字典来管理更复杂的数据。准备好继续探索了吗？"
   ]
  }
 ],
 "metadata": {
  "kernelspec": {
   "display_name": "Python 3",
   "language": "python",
   "name": "python3"
  },
  "language_info": {
   "codemirror_mode": {
    "name": "ipython",
    "version": 3
   },
   "file_extension": ".py",
   "mimetype": "text/x-python",
   "name": "python",
   "nbconvert_exporter": "python",
   "pygments_lexer": "ipython3",
   "version": "3.10.0"
  }
 }
}
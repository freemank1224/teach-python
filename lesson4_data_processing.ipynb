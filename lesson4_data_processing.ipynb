{
 "cells": [
  {
   "cell_type": "markdown",
   "metadata": {},
   "source": [
    "# 第四环节：任务数据处理\n",
    "\n",
    "欢迎来到第四次太空任务！在这个环节中，你将学习如何处理和分析来自各个探测器的科学数据。\n",
    "\n",
    "## 学习目标\n",
    "- 掌握文件读写操作\n",
    "- 学习文本处理和字符串操作\n",
    "- 理解正则表达式基础\n",
    "\n",
    "## 1. 文件操作基础\n",
    "### 1.1 读取数据文件\n",
    "让我们学习如何读取探测器发回的数据文件："
   ]
  },
  {
   "cell_type": "code",
   "execution_count": null,
   "metadata": {},
   "source": [
    "# 创建一个示例数据文件\n",
    "with open('probe_data.txt', 'w') as file:\n",
    "    file.write(\"温度: -63°C\n\")\n",
    "    file.write(\"气压: 600Pa\n\")\n",
    "    file.write(\"风速: 15m/s\n\")\n",
    "\n",
    "# 读取数据文件\n",
    "print(\"读取探测器数据：\")\n",
    "with open('probe_data.txt', 'r') as file:\n",
    "    data = file.read()\n",
    "    print(data)"
   ]
  },
  {
   "cell_type": "markdown",
   "metadata": {},
   "source": [
    "### 1.2 逐行处理数据\n",
    "对于大型数据文件，我们可以逐行读取和处理："
   ]
  },
  {
   "cell_type": "code",
   "execution_count": null,
   "metadata": {},
   "source": [
    "# 逐行读取并解析数据\n",
    "measurements = {}\n",
    "\n",
    "with open('probe_data.txt', 'r') as file:\n",
    "    for line in file:\n",
    "        key, value = line.strip().split(': ')\n",
    "        measurements[key] = value\n",
    "\n",
    "print(\"解析后的数据：\")\n",
    "for key, value in measurements.items():\n",
    "    print(f\"{key}: {value}\")"
   ]
  },
  {
   "cell_type": "markdown",
   "metadata": {},
   "source": [
    "## 2. 字符串处理\n",
    "### 2.1 提取数值\n",
    "从数据中提取数值进行计算："
   ]
  },
  {
   "cell_type": "code",
   "execution_count": null,
   "metadata": {},
   "source": [
    "# 提取数值并进行计算\n",
    "temperature = measurements['温度'].replace('°C', '')  # 移除单位\n",
    "temperature = float(temperature)  # 转换为数值\n",
    "\n",
    "# 温度转换（摄氏度到华氏度）\n",
    "fahrenheit = (temperature * 9/5) + 32\n",
    "\n",
    "print(f\"温度转换：\n\")\n",
    "print(f\"摄氏度：{temperature}°C\")\n",
    "print(f\"华氏度：{fahrenheit}°F\")"
   ]
  },
  {
   "cell_type": "markdown",
   "metadata": {},
   "source": [
    "### 2.2 字符串格式化\n",
    "创建格式化的报告："
   ]
  },
  {
   "cell_type": "code",
   "execution_count": null,
   "metadata": {},
   "source": [
    "# 生成探测报告\n",
    "report_template = \"\"\"探测器数据报告\n",
    "时间：{time}\n",
    "位置：火星表面\n",
    "\n",
    "环境数据：\n",
    "- 温度：{temp}\n",
    "- 气压：{pressure}\n",
    "- 风速：{wind}\n",
    "\"\"\"\n",
    "\n",
    "from datetime import datetime\n",
    "\n",
    "report = report_template.format(\n",
    "    time=datetime.now().strftime('%Y-%m-%d %H:%M:%S'),\n",
    "    temp=measurements['温度'],\n",
    "    pressure=measurements['气压'],\n",
    "    wind=measurements['风速']\n",
    ")\n",
    "\n",
    "print(report)"
   ]
  },
  {
   "cell_type": "markdown",
   "metadata": {},
   "source": [
    "## 3. 正则表达式\n",
    "### 3.1 使用正则表达式提取数据\n",
    "正则表达式可以帮助我们从复杂的文本中提取信息："
   ]
  },
  {
   "cell_type": "code",
   "execution_count": null,
   "metadata": {},
   "source": [
    "import re\n",
    "\n",
    "# 示例数据\n",
    "raw_data = \"\"\"\n",
    "温度记录-2024-03-15: -63°C\n",
    "气压记录-2024-03-15: 600Pa\n",
    "风速记录-2024-03-15: 15m/s\n",
    "\"\"\"\n",
    "\n",
    "# 使用正则表达式提取数据\n",
    "pattern = r'([^:]+): ([^\\n]+)'\n",
    "matches = re.findall(pattern, raw_data)\n",
    "\n",
    "print(\"提取的数据：\")\n",
    "for item, value in matches:\n",
    "    print(f\"{item.split('-')[0]}: {value}\")"
   ]
  },
  {
   "cell_type": "markdown",
   "metadata": {},
   "source": [
    "### 3.2 数据验证\n",
    "使用正则表达式验证数据格式："
   ]
  },
  {
   "cell_type": "code",
   "execution_count": null,
   "metadata": {},
   "source": [
    "def validate_measurement(value, pattern):\n",
    "    return bool(re.match(pattern, value))\n",
    "\n",
    "# 验证数据格式\n",
    "temperature_pattern = r'-?\\d+°C'\n",
    "pressure_pattern = r'\\d+Pa'\n",
    "wind_pattern = r'\\d+m/s'\n",
    "\n",
    "print(\"数据验证：\")\n",
    "print(f\"温度格式正确：{validate_measurement('-63°C', temperature_pattern)}\")\n",
    "print(f\"气压格式正确：{validate_measurement('600Pa', pressure_pattern)}\")\n",
    "print(f\"风速格式正确：{validate_measurement('15m/s', wind_pattern)}\")"
   ]
  },
  {
   "cell_type": "markdown",
   "metadata": {},
   "source": [
    "## 4. 练习任务\n",
    "现在轮到你来处理探测器数据了！完成以下任务：\n",
    "\n",
    "1. 创建一个函数来读取和解析数据文件\n",
    "2. 实现数据格式验证和转换\n",
    "3. 生成一个详细的探测报告\n",
    "\n",
    "在下面的代码块中编写你的代码："
   ]
  },
  {
   "cell_type": "code",
   "execution_count": null,
   "metadata": {},
   "source": [
    "# 在这里编写你的代码\n",
    "# 1. 创建数据读取和解析函数\n",
    "\n",
    "# 2. 实现数据验证和转换\n",
    "\n",
    "# 3. 生成探测报告\n"
   ]
  },
  {
   "cell_type": "markdown",
   "metadata": {},
   "source": [
    "## 5. 小测验\n",
    "1. 如何使用with语句打开文件？\n",
    "2. 字符串的split()方法有什么作用？\n",
    "3. 正则表达式中的\\d代表什么？\n",
    "\n",
    "## 下一步\n",
    "恭喜你完成了第四个环节！你已经掌握了文件操作和数据处理的基础知识。在下一个环节中，我们将学习如何使用更高级的数据分析工具来处理大量的探测器数据。准备好继续探索了吗？"
   ]
  }
 ],
 "metadata": {
  "kernelspec": {
   "display_name": "Python 3",
   "language": "python",
   "name": "python3"
  },
  "language_info": {
   "codemirror_mode": {
    "name": "ipython",
    "version": 3
   },
   "file_extension": ".py",
   "mimetype": "text/x-python",
   "name": "python",
   "nbconvert_exporter": "python",
   "pygments_lexer": "ipython3",
   "version": "3.10.0"
  }
 }
}
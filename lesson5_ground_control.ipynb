{
 "cells": [
  {
   "cell_type": "markdown",
   "metadata": {},
   "source": [
    "# 第五环节：地面控制与数据分析\n",
    "\n",
    "欢迎来到第五次太空任务！在这个环节中，你将学习如何使用API获取数据，处理JSON格式，以及使用pandas进行数据分析和可视化。\n",
    "\n",
    "## 学习目标\n",
    "- 理解API的概念和HTTP请求基础\n",
    "- 掌握JSON数据处理\n",
    "- 学习使用pandas处理Excel和CSV文件\n",
    "- 掌握数据可视化基础\n",
    "\n",
    "## 1. API基础\n",
    "### 1.1 理解API\n",
    "API（应用程序接口）就像是不同系统之间的翻译官，让我们能够获取其他系统的数据："
   ]
  },
  {
   "cell_type": "code",
   "execution_count": null,
   "metadata": {},
   "source": [
    "import requests\n",
    "\n",
    "# 模拟获取太空天气数据\n",
    "def get_space_weather():\n",
    "    # 这里使用一个模拟的API响应\n",
    "    weather_data = {\n",
    "        \"solar_wind\": {\n",
    "            \"speed\": 400,  # km/s\n",
    "            \"density\": 5    # p/cm³\n",
    "        },\n",
    "        \"magnetic_field\": {\n",
    "            \"strength\": 10,  # nT\n",
    "            \"direction\": \"south\"\n",
    "        }\n",
    "    }\n",
    "    return weather_data\n",
    "\n",
    "# 获取并显示数据\n",
    "weather = get_space_weather()\n",
    "print(\"太空天气状况：\")\n",
    "print(f\"太阳风速度：{weather['solar_wind']['speed']} km/s\")\n",
    "print(f\"磁场强度：{weather['magnetic_field']['strength']} nT\")"
   ]
  },
  {
   "cell_type": "markdown",
   "metadata": {},
   "source": [
    "### 1.2 处理JSON数据\n",
    "JSON是API通信中最常用的数据格式："
   ]
  },
  {
   "cell_type": "code",
   "execution_count": null,
   "metadata": {},
   "source": [
    "import json\n",
    "\n",
    "# 创建一个任务数据\n",
    "mission_data = {\n",
    "    \"mission_name\": \"火星探测-2024\",\n",
    "    \"launch_date\": \"2024-03-15\",\n",
    "    \"objectives\": [\n",
    "        \"采集土壤样本\",\n",
    "        \"大气成分分析\",\n",
    "        \"寻找水源\"\n",
    "    ]\n",
    "}\n",
    "\n",
    "# 将数据转换为JSON字符串\n",
    "json_string = json.dumps(mission_data, ensure_ascii=False, indent=2)\n",
    "print(\"JSON格式的任务数据：\")\n",
    "print(json_string)\n",
    "\n",
    "# 从JSON字符串解析数据\n",
    "parsed_data = json.loads(json_string)\n",
    "print(\"\n解析后的任务目标：\")\n",
    "for i, objective in enumerate(parsed_data['objectives'], 1):\n",
    "    print(f\"{i}. {objective}\")"
   ]
  },
  {
   "cell_type": "markdown",
   "metadata": {},
   "source": [
    "## 2. 数据分析基础\n",
    "### 2.1 使用pandas处理数据\n",
    "pandas是Python中最强大的数据分析工具之一："
   ]
  },
  {
   "cell_type": "code",
   "execution_count": null,
   "metadata": {},
   "source": [
    "import pandas as pd\n",
    "\n",
    "# 创建一个示例数据集\n",
    "data = {\n",
    "    '日期': ['2024-03-01', '2024-03-02', '2024-03-03', '2024-03-04', '2024-03-05'],\n",
    "    '温度': [-63, -65, -60, -62, -64],\n",
    "    '气压': [600, 605, 610, 595, 598],\n",
    "    '风速': [15, 12, 18, 14, 16]\n",
    "}\n",
    "\n",
    "# 创建DataFrame\n",
    "df = pd.DataFrame(data)\n",
    "\n",
    "# 显示基本统计信息\n",
    "print(\"数据统计分析：\")\n",
    "print(df.describe())\n",
    "\n",
    "# 计算平均值\n",
    "print(\"\n平均温度：\", df['温度'].mean(), \"°C\")\n",
    "print(\"平均气压：\", df['气压'].mean(), \"Pa\")"
   ]
  },
  {
   "cell_type": "markdown",
   "metadata": {},
   "source": [
    "### 2.2 数据可视化\n",
    "使用matplotlib绘制数据图表："
   ]
  },
  {
   "cell_type": "code",
   "execution_count": null,
   "metadata": {},
   "source": [
    "import matplotlib.pyplot as plt\n",
    "\n",
    "# 设置中文显示\n",
    "plt.rcParams['font.sans-serif'] = ['SimHei']\n",
    "plt.rcParams['axes.unicode_minus'] = False\n",
    "\n",
    "# 创建图表\n",
    "plt.figure(figsize=(10, 6))\n",
    "plt.plot(df['日期'], df['温度'], marker='o', label='温度')\n",
    "plt.title('火星表面温度变化')\n",
    "plt.xlabel('日期')\n",
    "plt.ylabel('温度 (°C)')\n",
    "plt.grid(True)\n",
    "plt.xticks(rotation=45)\n",
    "plt.legend()\n",
    "plt.tight_layout()\n",
    "plt.show()"
   ]
  },
  {
   "cell_type": "markdown",
   "metadata": {},
   "source": [
    "## 3. 互动任务：太空气象数据中心\n",
    "让我们创建一个完整的数据分析系统！"
   ]
  },
  {
   "cell_type": "code",
   "execution_count": null,
   "metadata": {},
   "source": [
    "# 创建一个综合数据分析系统\n",
    "def analyze_space_weather(data_file):\n",
    "    # 读取CSV数据\n",
    "    df = pd.read_csv(data_file)\n",
    "    \n",
    "    # 基本统计\n",
    "    stats = {\n",
    "        '平均温度': df['温度'].mean(),\n",
    "        '最高温度': df['温度'].max(),\n",
    "        '最低温度': df['温度'].min(),\n",
    "        '温度标准差': df['温度'].std()\n",
    "    }\n",
    "    \n",
    "    # 生成图表\n",
    "    plt.figure(figsize=(12, 6))\n",
    "    plt.subplot(1, 2, 1)\n",
    "    plt.plot(df['日期'], df['温度'], 'r-', label='温度')\n",
    "    plt.title('温度趋势')\n",
    "    plt.xticks(rotation=45)\n",
    "    plt.legend()\n",
    "    \n",
    "    plt.subplot(1, 2, 2)\n",
    "    plt.hist(df['温度'], bins=10)\n",
    "    plt.title('温度分布')\n",
    "    \n",
    "    plt.tight_layout()\n",
    "    plt.show()\n",
    "    \n",
    "    return stats\n",
    "\n",
    "# 注意：这里需要实际的数据文件才能运行\n",
    "# stats = analyze_space_weather('weather_data.csv')"
   ]
  },
  {
   "cell_type": "markdown",
   "metadata": {},
   "source": [
    "## 4. 练习任务\n",
    "现在轮到你来分析太空数据了！完成以下任务：\n",
    "\n",
    "1. 创建一个函数来获取和处理API数据\n",
    "2. 使用pandas分析历史气象数据\n",
    "3. 创建一个交互式的数据可视化报告\n",
    "\n",
    "在下面的代码块中编写你的代码："
   ]
  },
  {
   "cell_type": "code",
   "execution_count": null,
   "metadata": {},
   "source": [
    "# 在这里编写你的代码\n",
    "# 1. API数据处理函数\n",
    "\n",
    "# 2. 历史数据分析\n",
    "\n",
    "# 3. 交互式可视化\n"
   ]
  },
  {
   "cell_type": "markdown",
   "metadata": {},
   "source": [
    "## 5. 小测验\n",
    "1. API和JSON的关系是什么？\n",
    "2. pandas中DataFrame和Series的区别是什么？\n",
    "3. 如何选择合适的图表类型来可视化数据？\n",
    "\n",
    "## 下一步\n",
    "太棒了！你已经掌握了数据分析和可视化的基本技能。在下一个环节中，我们将学习如何使用人工智能来增强我们的太空探索能力。准备好继续探索了吗？"
   ]
  }
 ],
 "metadata": {
  "kernelspec": {
   "display_name": "Python 3",
   "language": "python",
   "name": "python3"
  },
  "language_info": {
   "codemirror_mode": {
    "name": "ipython",
    "version": 3
   },
   "file_extension": ".py",
   "mimetype": "text/x-python",
   "name": "python",
   "nbconvert_exporter": "python",
   "pygments_lexer": "ipython3",
   "version": "3.10.0"
  }
 }
}
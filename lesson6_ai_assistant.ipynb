{
 "cells": [
  {
   "cell_type": "markdown",
   "metadata": {},
   "source": [
    "# 第六环节：AI太空助手开发\n",
    "\n",
    "欢迎来到第六次太空任务！在这个环节中，你将学习如何使用人工智能技术来创建一个智能太空助手。\n",
    "\n",
    "## 学习目标\n",
    "- 理解LLM（大语言模型）的基本概念\n",
    "- 学习调用AI模型API\n",
    "- 掌握提示词工程基础\n",
    "\n",
    "## 1. LLM基础知识\n",
    "### 1.1 认识大语言模型\n",
    "大语言模型就像是一个超级智能的对话伙伴，它可以理解我们的问题并给出合适的回答："
   ]
  },
  {
   "cell_type": "code",
   "execution_count": null,
   "metadata": {},
   "source": [
    "import requests\n",
    "import json\n",
    "\n",
    "# 注意：这里需要你的API密钥\n",
    "API_KEY = 'your_api_key_here'\n",
    "\n",
    "def ask_ai_assistant(question):\n",
    "    # 这是一个模拟的AI助手响应\n",
    "    responses = {\n",
    "        \"火星天气\": \"今天火星表面温度-63°C，有轻微沙尘暴。\",\n",
    "        \"太空任务\": \"正在进行的任务包括火星采样返回和小行星探测。\",\n",
    "        \"航天器状态\": \"所有系统运行正常，燃料储量80%。\"\n",
    "    }\n",
    "    \n",
    "    return responses.get(question, \"抱歉，我还不知道这个问题的答案。\")\n",
    "\n",
    "# 测试AI助手\n",
    "print(\"AI助手回答：\")\n",
    "print(ask_ai_assistant(\"火星天气\"))"
   ]
  },
  {
   "cell_type": "markdown",
   "metadata": {},
   "source": [
    "### 1.2 API调用基础\n",
    "要使用AI模型，我们需要学会如何调用API："
   ]
  },
  {
   "cell_type": "code",
   "execution_count": null,
   "metadata": {},
   "source": [
    "def call_ai_api(prompt):\n",
    "    # 这是一个示例API调用结构\n",
    "    api_url = \"https://api.example.com/v1/chat\"\n",
    "    headers = {\n",
    "        \"Authorization\": f\"Bearer {API_KEY}\",\n",
    "        \"Content-Type\": \"application/json\"\n",
    "    }\n",
    "    \n",
    "    data = {\n",
    "        \"model\": \"ai-model-name\",\n",
    "        \"messages\": [{\n",
    "            \"role\": \"user\",\n",
    "            \"content\": prompt\n",
    "        }]\n",
    "    }\n",
    "    \n",
    "    # 注意：这里只是示例代码\n",
    "    # response = requests.post(api_url, headers=headers, json=data)\n",
    "    # return response.json()\n",
    "    \n",
    "    # 返回模拟响应\n",
    "    return {\"response\": \"这是一个模拟的AI响应。\"}"
   ]
  },
  {
   "cell_type": "markdown",
   "metadata": {},
   "source": [
    "## 2. 提示词工程\n",
    "### 2.1 设计好的提示词\n",
    "提示词的质量直接影响AI的回答质量："
   ]
  },
  {
   "cell_type": "code",
   "execution_count": null,
   "metadata": {},
   "source": [
    "# 示例：不同提示词的效果\n",
    "bad_prompt = \"火星怎么样？\"\n",
    "good_prompt = \"\"\"请提供火星的以下信息：\n",
    "1. 当前气温\n",
    "2. 大气压力\n",
    "3. 是否有沙尘暴\n",
    "请用简洁的语言回答。\"\"\"\n",
    "\n",
    "print(\"效果对比：\")\n",
    "print(\"不好的提示词：\")\n",
    "print(ask_ai_assistant(bad_prompt))\n",
    "print(\"\n好的提示词：\")\n",
    "print(ask_ai_assistant(good_prompt))"
   ]
  },
  {
   "cell_type": "markdown",
   "metadata": {},
   "source": [
    "### 2.2 上下文管理\n",
    "在对话中保持上下文连贯性："
   ]
  },
  {
   "cell_type": "code",
   "execution_count": null,
   "metadata": {},
   "source": [
    "class SpaceAssistant:\n",
    "    def __init__(self):\n",
    "        self.conversation_history = []\n",
    "    \n",
    "    def add_message(self, role, content):\n",
    "        self.conversation_history.append({\n",
    "            \"role\": role,\n",
    "            \"content\": content\n",
    "        })\n",
    "    \n",
    "    def get_response(self, user_input):\n",
    "        # 添加用户输入到历史记录\n",
    "        self.add_message(\"user\", user_input)\n",
    "        \n",
    "        # 这里应该调用实际的AI API\n",
    "        # 现在使用模拟响应\n",
    "        response = \"我理解了你的问题，让我来回答...\"\n",
    "        \n",
    "        # 添加AI响应到历史记录\n",
    "        self.add_message(\"assistant\", response)\n",
    "        return response\n",
    "\n",
    "# 测试对话系统\n",
    "assistant = SpaceAssistant()\n",
    "print(assistant.get_response(\"火星上有水吗？\"))"
   ]
  },
  {
   "cell_type": "markdown",
   "metadata": {},
   "source": [
    "## 3. 互动任务：智能导航助手\n",
    "让我们创建一个能够帮助规划太空任务的AI助手！"
   ]
  },
  {
   "cell_type": "code",
   "execution_count": null,
   "metadata": {},
   "source": [
    "class SpaceNavigationAssistant:\n",
    "    def __init__(self):\n",
    "        self.mission_data = {\n",
    "            \"destinations\": [\"月球\", \"火星\", \"木星\", \"土星\"],\n",
    "            \"resources\": {\n",
    "                \"燃料\": 1000,\n",
    "                \"氧气\": 500,\n",
    "                \"食物\": 300\n",
    "            }\n",
    "        }\n",
    "    \n",
    "    def plan_mission(self, destination):\n",
    "        if destination not in self.mission_data[\"destinations\"]:\n",
    "            return \"抱歉，该目的地不在可选范围内。\"\n",
    "        \n",
    "        # 这里可以添加更复杂的任务规划逻辑\n",
    "        return f\"正在为前往{destination}制定计划...\n\" + \\\n",
    "               f\"1. 检查资源储备\n\" + \\\n",
    "               f\"2. 计算最佳航线\n\" + \\\n",
    "               f\"3. 评估任务风险\"\n",
    "    \n",
    "    def check_resources(self):\n",
    "        return \"\n\".join([f\"{k}: {v}单位\" for k, v in self.mission_data[\"resources\"].items()])\n",
    "\n",
    "# 测试导航助手\n",
    "nav_assistant = SpaceNavigationAssistant()\n",
    "print(nav_assistant.plan_mission(\"火星\"))\n",
    "print(\"\n资源状况：\")\n",
    "print(nav_assistant.check_resources())"
   ]
  },
  {
   "cell_type": "markdown",
   "metadata": {},
   "source": [
    "## 4. 练习任务\n",
    "现在轮到你来开发AI助手了！完成以下任务：\n",
    "\n",
    "1. 创建一个能够回答太空科学问题的AI助手\n",
    "2. 实现一个任务风险评估系统\n",
    "3. 开发一个智能资源管理助手\n",
    "\n",
    "在下面的代码块中编写你的代码："
   ]
  },
  {
   "cell_type": "code",
   "execution_count": null,
   "metadata": {},
   "source": [
    "# 在这里编写你的代码\n",
    "# 1. 太空科学问答助手\n",
    "\n",
    "# 2. 风险评估系统\n",
    "\n",
    "# 3. 资源管理助手\n"
   ]
  },
  {
   "cell_type": "markdown",
   "metadata": {},
   "source": [
    "## 5. 小测验\n",
    "1. 什么是LLM？它有什么特点？\n",
    "2. 如何设计好的提示词？\n",
    "3. 为什么在对话中保持上下文很重要？\n",
    "\n",
    "## 下一步\n",
    "太棒了！你已经掌握了AI助手开发的基础知识。在下一个环节中，我们将把所有学到的知识整合起来，创建一个完整的火星探测站数据分析平台。准备好接受终极挑战了吗？"
   ]
  }
 ],
 "metadata": {
  "kernelspec": {
   "display_name": "Python 3",
   "language": "python",
   "name": "python3"
  },
  "language_info": {
   "codemirror_mode": {
    "name": "ipython",
    "version": 3
   },
   "file_extension": ".py",
   "mimetype": "text/x-python",
   "name": "python",
   "nbconvert_exporter": "python",
   "pygments_lexer": "ipython3",
   "version": "3.10.0"
  }
 }
}
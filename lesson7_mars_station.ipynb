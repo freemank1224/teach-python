{
 "cells": [
  {
   "cell_type": "markdown",
   "metadata": {},
   "source": [
    "# 第七环节：火星探测站数据中心（综合实践）\n",
    "\n",
    "欢迎来到最后一次太空任务！在这个环节中，你将运用前面所学的所有知识，创建一个完整的火星探测站数据分析平台。\n",
    "\n",
    "## 学习目标\n",
    "- 综合运用前六个环节的所有技能\n",
    "- 体验完整的项目开发流程\n",
    "- 培养问题分析和解决能力\n",
    "\n",
    "## 第一阶段：数据采集系统\n",
    "### 1.1 创建探测器数据结构\n",
    "首先，我们需要设计一个合适的数据结构来存储探测器信息："
   ]
  },
  {
   "cell_type": "code",
   "execution_count": null,
   "metadata": {},
   "source": [
    "# 探测器类定义\n",
    "class MarsProbe:\n",
    "    def __init__(self, probe_id, location):\n",
    "        self.probe_id = probe_id\n",
    "        self.location = location\n",
    "        self.data = {\n",
    "            '温度': [],\n",
    "            '气压': [],\n",
    "            '风速': [],\n",
    "            '湿度': []\n",
    "        }\n",
    "    \n",
    "    def collect_data(self, temperature, pressure, wind_speed, humidity):\n",
    "        self.data['温度'].append(temperature)\n",
    "        self.data['气压'].append(pressure)\n",
    "        self.data['风速'].append(wind_speed)\n",
    "        self.data['湿度'].append(humidity)\n",
    "    \n",
    "    def get_latest_data(self):\n",
    "        return {\n",
    "            '探测器ID': self.probe_id,\n",
    "            '位置': self.location,\n",
    "            '温度': self.data['温度'][-1] if self.data['温度'] else None,\n",
    "            '气压': self.data['气压'][-1] if self.data['气压'] else None,\n",
    "            '风速': self.data['风速'][-1] if self.data['风速'] else None,\n",
    "            '湿度': self.data['湿度'][-1] if self.data['湿度'] else None\n",
    "        }\n",
    "\n",
    "# 创建探测器网络\n",
    "probes = [\n",
    "    MarsProbe('MP001', '火星赤道'),\n",
    "    MarsProbe('MP002', '奥林匹斯山'),\n",
    "    MarsProbe('MP003', '火星极地')\n",
    "]"
   ]
  },
  {
   "cell_type": "markdown",
   "metadata": {},
   "source": [
    "### 1.2 数据采集和存储\n",
    "实现数据采集和保存功能："
   ]
  },
  {
   "cell_type": "code",
   "execution_count": null,
   "metadata": {},
   "source": [
    "import json\n",
    "from datetime import datetime\n",
    "import random\n",
    "\n",
    "def simulate_data_collection():\n",
    "    # 模拟数据采集\n",
    "    for probe in probes:\n",
    "        temperature = random.uniform(-80, -40)  # 火星温度范围\n",
    "        pressure = random.uniform(600, 700)     # 火星大气压力\n",
    "        wind_speed = random.uniform(0, 30)      # 风速\n",
    "        humidity = random.uniform(0, 1)         # 湿度百分比\n",
    "        \n",
    "        probe.collect_data(temperature, pressure, wind_speed, humidity)\n",
    "\n",
    "def save_data_to_file(filename):\n",
    "    # 保存数据到文件\n",
    "    data = {\n",
    "        'timestamp': datetime.now().isoformat(),\n",
    "        'probe_data': [probe.get_latest_data() for probe in probes]\n",
    "    }\n",
    "    \n",
    "    with open(filename, 'w', encoding='utf-8') as f:\n",
    "        json.dump(data, f, ensure_ascii=False, indent=2)\n",
    "\n",
    "# 测试数据采集和存储\n",
    "simulate_data_collection()\n",
    "save_data_to_file('mars_data.json')\n",
    "\n",
    "# 显示采集到的数据\n",
    "for probe in probes:\n",
    "    print(f\"探测器 {probe.probe_id} 的最新数据：\")\n",
    "    latest_data = probe.get_latest_data()\n",
    "    for key, value in latest_data.items():\n",
    "        if isinstance(value, float):\n",
    "            print(f\"  {key}: {value:.2f}\")\n",
    "        else:\n",
    "            print(f\"  {key}: {value}\")"
   ]
  },
  {
   "cell_type": "markdown",
   "metadata": {},
   "source": [
    "## 第二阶段：数据处理中心\n",
    "### 2.1 数据分析系统\n",
    "使用pandas处理和分析采集到的数据："
   ]
  },
  {
   "cell_type": "code",
   "execution_count": null,
   "metadata": {},
   "source": [
    "import pandas as pd\n",
    "import matplotlib.pyplot as plt\n",
    "\n",
    "class MarsDataAnalyzer:\n",
    "    def __init__(self, data_file):\n",
    "        with open(data_file, 'r', encoding='utf-8') as f:\n",
    "            self.raw_data = json.load(f)\n",
    "        \n",
    "        # 转换为DataFrame\n",
    "        self.df = pd.DataFrame(self.raw_data['probe_data'])\n",
    "    \n",
    "    def analyze_temperature_distribution(self):\n",
    "        plt.figure(figsize=(10, 6))\n",
    "        plt.hist(self.df['温度'], bins=15, color='skyblue')\n",
    "        plt.title('火星表面温度分布')\n",
    "        plt.xlabel('温度 (°C)')\n",
    "        plt.ylabel('频率')\n",
    "        plt.grid(True)\n",
    "        plt.show()\n",
    "    \n",
    "    def generate_summary_report(self):\n",
    "        summary = {\n",
    "            '平均温度': self.df['温度'].mean(),\n",
    "            '最高温度': self.df['温度'].max(),\n",
    "            '最低温度': self.df['温度'].min(),\n",
    "            '平均气压': self.df['气压'].mean(),\n",
    "            '平均风速': self.df['风速'].mean()\n",
    "        }\n",
    "        return summary\n",
    "\n",
    "# 创建分析器实例\n",
    "analyzer = MarsDataAnalyzer('mars_data.json')\n",
    "\n",
    "# 显示分析结果\n",
    "summary = analyzer.generate_summary_report()\n",
    "print(\"数据分析报告：\")\n",
    "for key, value in summary.items():\n",
    "    print(f\"{key}: {value:.2f}\")"
   ]
  },
  {
   "cell_type": "markdown",
   "metadata": {},
   "source": [
    "### 2.2 数据可视化\n",
    "创建交互式数据展示："
   ]
  },
  {
   "cell_type": "code",
   "execution_count": null,
   "metadata": {},
   "source": [
    "import plotly.express as px\n",
    "import plotly.graph_objects as go\n",
    "\n",
    "def create_interactive_dashboard(df):\n",
    "    # 创建散点图\n",
    "    fig = go.Figure()\n",
    "    \n",
    "    # 添加温度数据\n",
    "    fig.add_trace(\n",
    "        go.Scatter(\n",
    "            x=df['位置'],\n",
    "            y=df['温度'],\n",
    "            mode='markers+text',\n",
    "            name='温度',\n",
    "            text=df['温度'].round(2),\n",
    "            textposition='top center'\n",
    "        )\n",
    "    )\n",
    "    \n",
    "    # 更新布局\n",
    "    fig.update_layout(\n",
    "        title='火星探测站数据分布',\n",
    "        xaxis_title='探测器位置',\n",
    "        yaxis_title='温度 (°C)',\n",
    "        showlegend=True\n",
    "    )\n",
    "    \n",
    "    fig.show()\n",
    "\n",
    "# 创建交互式仪表板\n",
    "create_interactive_dashboard(analyzer.df)"
   ]
  },
  {
   "cell_type": "markdown",
   "metadata": {},
   "source": [
    "## 3. 练习任务\n",
    "现在轮到你来完善火星探测站的功能了！完成以下任务：\n",
    "\n",
    "1. 添加新的数据分析功能\n",
    "2. 创建更多类型的数据可视化\n",
    "3. 实现数据异常检测\n",
    "\n",
    "在下面的代码块中编写你的代码："
   ]
  },
  {
   "cell_type": "code",
   "execution_count": null,
   "metadata": {},
   "source": [
    "# 在这里编写你的代码\n",
    "# 1. 添加新的分析功能\n",
    "\n",
    "# 2. 创建新的可视化\n",
    "\n",
    "# 3. 实现异常检测\n"
   ]
  },
  {
   "cell_type": "markdown",
   "metadata": {},
   "source": [
    "## 4. 小测验\n",
    "1. 类的__init__方法有什么作用？\n",
    "2. JSON数据如何转换为DataFrame？\n",
    "3. Plotly和Matplotlib的主要区别是什么？\n",
    "\n",
    "## 课程总结\n",
    "恭喜你完成了整个Python太空探索课程！现在你已经掌握了：\n",
    "\n",
    "- Python编程基础\n",
    "- 数据处理和分析技能\n",
    "- 面向对象编程概念\n",
    "- 数据可视化技术\n",
    "\n",
    "继续探索和学习，你将能够创建更多令人惊叹的项目！"
   ]
  }
 ],
 "metadata": {
  "kernelspec": {
   "display_name": "Python 3",
   "language": "python",
   "name": "python3"
  },
  "language_info": {
   "codemirror_mode": {
    "name": "ipython",
    "version": 3
   },
   "file_extension": ".py",
   "mimetype": "text/x-python",
   "name": "python",
   "nbconvert_exporter": "python",
   "pygments_lexer": "ipython3",
   "version": "3.8.0"
  }
 }
}

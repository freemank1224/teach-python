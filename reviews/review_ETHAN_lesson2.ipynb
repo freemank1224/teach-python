{
 "cells": [
  {
   "cell_type": "markdown",
   "id": "c5cf34b5",
   "metadata": {},
   "source": [
    "## Review: ethan:lesson2\n",
    "\n",
    "### 自动驾驶系统\n",
    "1. **缺失代码**：似乎缺少了自动驾驶系统的实现部分。对于刚开始学习编程的人来说，这是一个很重要的练习。\n",
    "   - **评分**: 0/5\n",
    "\n",
    "2. **建议**：你可以尝试使用 `if-elif-else` 条件语句来处理不同的燃料水平情况，这是一个基础但重要的技能。\n",
    "\n",
    "### 循环检测系统\n",
    "1. **缺失代码**：循环检测系统部分也未实现。对于编程初学者来说，理解和使用 `while` 或 `for` 循环是基础。\n",
    "   - **评分**: 0/5\n",
    "\n",
    "2. **建议**：可以尝试用循环结构模拟飞行过程中的系统检查。例如，使用 `while` 循环来增加高度，并在达到目标时停止。\n",
    "\n",
    "### 交互式导航系统\n",
    "1. **缺失代码**：这部分也未有具体实现。交互式程序是学习编程的好方法，可以帮助你理解用户输入和输出。\n",
    "   - **评分**: 0/5\n",
    "\n",
    "2. **建议**：尝试使用 `input()` 函数获取用户指令，并通过条件判断来处理不同的操作。例如，加速、减速或保持当前速度。\n",
    "\n",
    "### 总体评价\n",
    "- 这次作业缺少了具体的代码实现，但这是学习过程中常见的问题。\n",
    "- 希望你能通过编写基本的条件和循环结构来理解程序逻辑，并尝试增加用户交互部分。\n",
    "\n",
    "---\n"
   ]
  }
 ],
 "metadata": {
  "kernelspec": {
   "display_name": "Python 3 (ipykernel)",
   "language": "python",
   "name": "python3"
  },
  "language_info": {
   "codemirror_mode": {
    "name": "ipython",
    "version": 3
   },
   "file_extension": ".py",
   "mimetype": "text/x-python",
   "name": "python",
   "nbconvert_exporter": "python",
   "pygments_lexer": "ipython3",
   "version": "3.10.15"
  }
 },
 "nbformat": 4,
 "nbformat_minor": 5
}
